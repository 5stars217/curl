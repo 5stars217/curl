{
 "cells": [
  {
   "cell_type": "markdown",
   "metadata": {
    "collapsed": true
   },
   "source": [
    "# Tutorial 1: Basics of CrypTen Tensors\n",
    "\n",
    "We now have a high-level understanding of how secure MPC works. Through these tutorials, we will explain how to use CrypTen to carry out secure operations on encrypted tensors. In this tutorial, we will introduce a fundamental building block in CrypTen, called a ```CrypTensor```.  ```CrypTensors``` are encrypted ```torch``` tensors that can be used for computing securely on data. \n",
    "\n",
    "CrypTen currently only supports secure MPC protocols (though we intend to add support for other advanced encryption protocols). Using the ```mpc``` backend, ```CrypTensors``` act as ```torch``` tensors whose values are encrypted using secure MPC protocols. Tensors created using the ```mpc``` backend are called ```MPCTensors```. We will go into greater detail about ```MPCTensors``` in Tutorial 2. \n",
    "\n",
    "Let's begin by importing ```crypten``` and ```torch``` libraries. (If the imports fail, please see the installation instructions in the README.)"
   ]
  },
  {
   "cell_type": "code",
   "execution_count": 1,
   "metadata": {},
   "outputs": [
    {
     "name": "stderr",
     "output_type": "stream",
     "text": [
      "/Users/memo/.pyenv/versions/3.11.4/lib/python3.11/site-packages/tqdm/auto.py:21: TqdmWarning: IProgress not found. Please update jupyter and ipywidgets. See https://ipywidgets.readthedocs.io/en/stable/user_install.html\n",
      "  from .autonotebook import tqdm as notebook_tqdm\n"
     ]
    }
   ],
   "source": [
    "import crypten\n",
    "import torch\n",
    "from crypten.config import cfg\n",
    "import timeit\n",
    "import crypten.communicator as comm\n",
    "from crypten.config import cfg\n",
    "import logging\n",
    "\n",
    "crypten.init()\n",
    "logging.getLogger().setLevel(logging.INFO)\n",
    "\n",
    "\n",
    "# comm.get().set_verbosity(True)\n",
    "# ... do stuff ..\n",
    "# comm.get().print_communication_stats()"
   ]
  },
  {
   "cell_type": "code",
   "execution_count": 2,
   "metadata": {},
   "outputs": [
    {
     "name": "stdout",
     "output_type": "stream",
     "text": [
      "torch.Size([200])\n"
     ]
    }
   ],
   "source": [
    "# import logging\n",
    "\n",
    "# logging.basicConfig(filename='mylogs.log', level=logging.DEBUG)\n",
    "\n",
    "# torch.set_printoptions(sci_mode=False)\n",
    "\n",
    "#Construct example input CrypTensor\n",
    "x = torch.arange(-10, 10, 0.1)\n",
    "print(x.size())\n",
    "# x = torch.tensor([0.01, 0.5])\n",
    "x_enc = crypten.cryptensor(x)\n",
    "num_iters = 1\n",
    "print_terms = 8\n",
    "\n",
    "\n",
    "# print(\"Exponential:\")\n",
    "# print(\"  Exact :\", x.exp()[:print_terms])\n",
    "# with cfg.temp_override({\"functions.exp_method\": 'limit'}):\n",
    "#     start1 = timeit.default_timer()\n",
    "#     for _ in range(num_iters):\n",
    "#         z_enc = x_enc.exp()  # Private\n",
    "#     print(\"  Approx:\", num_iters, \"iterations in\",  timeit.default_timer() - start1, \"sec.:\", z_enc.get_plain_text()[:print_terms])\n",
    "# with cfg.temp_override({\"functions.exp_method\": 'lut'}):\n",
    "#     with cfg.temp_override({\"functions.exp_all_neg\": False}):\n",
    "#         start1 = timeit.default_timer()\n",
    "#         for _ in range(num_iters):\n",
    "#             z_enc = x_enc.exp()  # Private\n",
    "#         print(\"  LUT   :\", num_iters, \"iterations in\",  timeit.default_timer() - start1, \"sec.:\", z_enc.get_plain_text()[:print_terms])\n",
    "\n",
    "\n",
    "# print(\"\\nLogarithm (LUT faster):\")\n",
    "# print(\"  Exact :\", x.log()[:print_terms])\n",
    "# with cfg.temp_override({\"functions.log_method\": 'iter'}):\n",
    "#     start1 = timeit.default_timer()\n",
    "#     for _ in range(num_iters):\n",
    "#         z_enc = x_enc.log()  # Private\n",
    "#     print(\"  Approx:\", num_iters, \"iterations in\",  timeit.default_timer() - start1, \"sec.:\", z_enc.get_plain_text()[:print_terms])\n",
    "# with cfg.temp_override({\"functions.log_method\": 'lut'}):\n",
    "#     start1 = timeit.default_timer()\n",
    "#     for _ in range(num_iters):\n",
    "#         z_enc = x_enc.log()  # Private\n",
    "#     print(\"  LUT   :\", num_iters, \"iterations in\",  timeit.default_timer() - start1, \"sec.:\", z_enc.get_plain_text()[:print_terms])\n",
    "\n",
    "\n",
    "# print(\"\\nReciprocal:\")\n",
    "# print(\"  Exact :\", x.reciprocal()[:print_terms])\n",
    "# with cfg.temp_override({\"functions.reciprocal_method\": 'NR'}):\n",
    "#     with cfg.temp_override({\"functions.exp_method\": 'limit'}):\n",
    "#         start1 = timeit.default_timer()\n",
    "#         for _ in range(num_iters):\n",
    "#             z_enc = x_enc.reciprocal()  # Private\n",
    "#         print(\"  Approx:\", num_iters, \"iterations in\",  timeit.default_timer() - start1, \"sec.:\", z_enc.get_plain_text()[:print_terms])\n",
    "# with cfg.temp_override({\"functions.reciprocal_method\": 'lut'}):\n",
    "#     start1 = timeit.default_timer()\n",
    "#     for _ in range(num_iters):\n",
    "#         z_enc = x_enc.reciprocal()  # Private\n",
    "#     print(\"  LUT   :\", num_iters, \"iterations in\",  timeit.default_timer() - start1, \"sec.:\", z_enc.get_plain_text()[:print_terms])\n",
    "\n",
    "\n",
    "# print(\"\\nSquare Root: (LUT faster)\")\n",
    "# print(\"  Exact :\", x.sqrt()[:print_terms])\n",
    "# with cfg.temp_override({\"functions.sqrt_method\": 'NR'}):\n",
    "#     with cfg.temp_override({\"functions.inv_sqrt_method\": 'NR'}):\n",
    "#         start1 = timeit.default_timer()\n",
    "#         for _ in range(num_iters):\n",
    "#             z_enc = x_enc.sqrt()  # Private\n",
    "#         print(\"  Approx:\", num_iters, \"iterations in\",  timeit.default_timer() - start1, \"sec.:\", z_enc.get_plain_text()[:print_terms])\n",
    "# with cfg.temp_override({\"functions.sqrt_method\": 'lut'}):\n",
    "#     with cfg.temp_override({\"functions.inv_sqrt_method\": 'lut'}):\n",
    "#         start1 = timeit.default_timer()\n",
    "#         for _ in range(num_iters):\n",
    "#             z_enc = x_enc.sqrt()  # Private\n",
    "#         print(\"  LUT   :\", num_iters, \"iterations in\",  timeit.default_timer() - start1, \"sec.:\", z_enc.get_plain_text()[:print_terms])\n",
    "\n"
   ]
  },
  {
   "cell_type": "code",
   "execution_count": 3,
   "metadata": {},
   "outputs": [
    {
     "name": "stdout",
     "output_type": "stream",
     "text": [
      "\n",
      "Sin:\n",
      "  Exact : tensor([ 0.5440,  0.4575,  0.3665,  0.2718,  0.1743,  0.0752, -0.0248, -0.1245])\n",
      "  Approx: 1 iterations in 0.010527834005188197 sec.: tensor([ 0.5629,  0.4603,  0.3729,  0.2607,  0.1647,  0.0662, -0.0490, -0.1462])\n",
      "  Diff: tensor(0.0168) tensor(0.0482)\n",
      "  LUT   : 1 iterations in 0.006757249997463077 sec.: tensor([ 0.5325,  0.4509,  0.3654,  0.2766,  0.1854,  0.0615, -0.0322, -0.1256])\n",
      "  Diff: tensor(0.0052) tensor(0.0156)\n",
      "\n",
      "Cos:\n",
      "  Exact : tensor([-0.8391, -0.8892, -0.9304, -0.9624, -0.9847, -0.9972, -0.9997, -0.9922])\n",
      "  Approx: 1 iterations in 0.01045999996131286 sec.: tensor([-0.8897, -0.9453, -0.9933, -1.0235, -1.0406, -1.0498, -1.0461, -1.0387])\n",
      "  Diff: tensor(0.0189) tensor(0.0629)\n",
      "  LUT   : 1 iterations in 0.005701499991118908 sec.: tensor([-0.8464, -0.8925, -0.9308, -0.9609, -0.9826, -0.9981, -0.9994, -0.9920])\n",
      "  Diff: tensor(0.0049) tensor(0.0156)\n"
     ]
    }
   ],
   "source": [
    "print(\"\\nSin:\")\n",
    "print(\"  Exact :\", x.sin()[:print_terms])\n",
    "with cfg.temp_override({\"functions.trigonometry_method\": 'NR'}):\n",
    "    start1 = timeit.default_timer()\n",
    "    for _ in range(num_iters):\n",
    "        z_enc = x_enc.sin()  # Private\n",
    "    print(\"  Approx:\", num_iters, \"iterations in\",  timeit.default_timer() - start1, \"sec.:\", z_enc.get_plain_text()[:print_terms])\n",
    "    print(\"  Diff:\", (x.sin()-z_enc.get_plain_text()).abs().mean(), (x.sin()-z_enc.get_plain_text()).abs().max())\n",
    "with cfg.temp_override({\"functions.trigonometry_method\": 'lut'}):\n",
    "    start1 = timeit.default_timer()\n",
    "    for _ in range(num_iters):\n",
    "        z_enc = x_enc.sin()  # Private\n",
    "    print(\"  LUT   :\", num_iters, \"iterations in\",  timeit.default_timer() - start1, \"sec.:\", z_enc.get_plain_text()[:print_terms])\n",
    "    print(\"  Diff:\", (x.sin()-z_enc.get_plain_text()).abs().mean(), (x.sin()-z_enc.get_plain_text()).abs().max())\n",
    "\n",
    "\n",
    "print(\"\\nCos:\")\n",
    "print(\"  Exact :\", x.cos()[:print_terms])\n",
    "with cfg.temp_override({\"functions.trigonometry_method\": 'NR'}):\n",
    "    start1 = timeit.default_timer()\n",
    "    for _ in range(num_iters):\n",
    "        z_enc = x_enc.cos()  # Private\n",
    "    print(\"  Approx:\", num_iters, \"iterations in\",  timeit.default_timer() - start1, \"sec.:\", z_enc.get_plain_text()[:print_terms])\n",
    "    print(\"  Diff:\", (x.cos()-z_enc.get_plain_text()).abs().mean(), (x.cos()-z_enc.get_plain_text()).abs().max())\n",
    "with cfg.temp_override({\"functions.trigonometry_method\": 'lut'}):\n",
    "    start1 = timeit.default_timer()\n",
    "    for _ in range(num_iters):\n",
    "        z_enc = x_enc.cos()  # Private\n",
    "    print(\"  LUT   :\", num_iters, \"iterations in\",  timeit.default_timer() - start1, \"sec.:\", z_enc.get_plain_text()[:print_terms])\n",
    "    print(\"  Diff:\", (x.cos()-z_enc.get_plain_text()).abs().mean(), (x.cos()-z_enc.get_plain_text()).abs().max())"
   ]
  },
  {
   "cell_type": "code",
   "execution_count": 4,
   "metadata": {},
   "outputs": [
    {
     "name": "stdout",
     "output_type": "stream",
     "text": [
      "\n",
      "Sigmoid:\n",
      "  Exact : tensor([4.5398e-05, 5.0172e-05, 5.5449e-05, 6.1280e-05, 6.7724e-05, 7.4846e-05,\n",
      "        8.2717e-05, 9.1416e-05])\n",
      "  Approx: 1 iterations in 0.010023833019658923 sec.: tensor([3.0518e-05, 3.0518e-05, 3.0518e-05, 4.5776e-05, 4.5776e-05, 6.1035e-05,\n",
      "        6.1035e-05, 7.6294e-05])\n",
      "  Diff: tensor(0.0004) tensor(0.0020)\n",
      "  LUT   : 1 iterations in 0.012260959018021822 sec.: tensor([0., 0., 0., 0., 0., 0., 0., 0.])\n",
      "  Diff: tensor(0.0001) tensor(0.0010)\n",
      "\\Tanh:\n",
      "  Exact : tensor([-1., -1., -1., -1., -1., -1., -1., -1.])\n",
      "  Approx: 1 iterations in 0.009671750012785196 sec.: tensor([-1.0000, -1.0000, -1.0000, -1.0000, -1.0000, -1.0000, -1.0000, -1.0000])\n",
      "  Diff: tensor(0.0004) tensor(0.0039)\n",
      "  LUT   : 1 iterations in 0.011867417022585869 sec.: tensor([-1., -1., -1., -1., -1., -1., -1., -1.])\n",
      "  Diff: tensor(0.0001) tensor(0.0020)\n"
     ]
    }
   ],
   "source": [
    "print(\"\\nSigmoid:\")\n",
    "print(\"  Exact :\", x.sigmoid()[:print_terms])\n",
    "with cfg.temp_override({\"functions.sigmoid_tanh_method\": 'reciprocal', \"functions.reciprocal_method\": 'NR', \"functions.exp_method\": 'limit'}):\n",
    "    start1 = timeit.default_timer()\n",
    "    for _ in range(num_iters):\n",
    "        z_enc = x_enc.sigmoid()  # Private\n",
    "    print(\"  Approx:\", num_iters, \"iterations in\",  timeit.default_timer() - start1, \"sec.:\", z_enc.get_plain_text()[:print_terms])\n",
    "    print(\"  Diff:\", (x.sigmoid()-z_enc.get_plain_text()).abs().mean(), (x.sigmoid()-z_enc.get_plain_text()).abs().max())\n",
    "with cfg.temp_override({\"functions.sigmoid_tanh_method\": 'lut'}):\n",
    "    start1 = timeit.default_timer()\n",
    "    for _ in range(num_iters):\n",
    "        z_enc = x_enc.sigmoid()  # Private\n",
    "    print(\"  LUT   :\", num_iters, \"iterations in\",  timeit.default_timer() - start1, \"sec.:\", z_enc.get_plain_text()[:print_terms])\n",
    "    print(\"  Diff:\", (x.sigmoid()-z_enc.get_plain_text()).abs().mean(), (x.sigmoid()-z_enc.get_plain_text()).abs().max())\n",
    "\n",
    "\n",
    "print(\"\\Tanh:\")\n",
    "print(\"  Exact :\", x.tanh()[:print_terms])\n",
    "with cfg.temp_override({\"functions.sigmoid_tanh_method\": 'reciprocal', \"functions.reciprocal_method\": 'NR', \"functions.exp_method\": 'limit'}):\n",
    "    start1 = timeit.default_timer()\n",
    "    for _ in range(num_iters):\n",
    "        z_enc = x_enc.tanh()  # Private\n",
    "    print(\"  Approx:\", num_iters, \"iterations in\",  timeit.default_timer() - start1, \"sec.:\", z_enc.get_plain_text()[:print_terms])\n",
    "    print(\"  Diff:\", (x.tanh()-z_enc.get_plain_text()).abs().mean(), (x.tanh()-z_enc.get_plain_text()).abs().max())\n",
    "with cfg.temp_override({\"functions.sigmoid_tanh_method\": 'lut'}):\n",
    "    start1 = timeit.default_timer()\n",
    "    for _ in range(num_iters):\n",
    "        z_enc = x_enc.tanh()  # Private\n",
    "    print(\"  LUT   :\", num_iters, \"iterations in\",  timeit.default_timer() - start1, \"sec.:\", z_enc.get_plain_text()[:print_terms])\n",
    "    print(\"  Diff:\", (x.tanh()-z_enc.get_plain_text()).abs().mean(), (x.tanh()-z_enc.get_plain_text()).abs().max())"
   ]
  },
  {
   "cell_type": "code",
   "execution_count": 5,
   "metadata": {},
   "outputs": [
    {
     "name": "stdout",
     "output_type": "stream",
     "text": [
      "\\Erf:\n",
      "  Exact : tensor([-1., -1., -1., -1., -1., -1., -1., -1.])\n",
      "  Approx: 1 iterations in 0.013430875027552247 sec.: tensor([24252978., 33915096., 15197149., 11353300.,  9962572., 11342860.,\n",
      "        10955472., 24343256.])\n",
      "  Diff: tensor(4401197.) tensor(33915096.)\n",
      "  LUT   : 1 iterations in 0.011581791972275823 sec.: tensor([-1., -1., -1., -1., -1., -1., -1., -1.])\n",
      "  Diff: tensor(0.0002) tensor(0.0044)\n"
     ]
    }
   ],
   "source": [
    "print(\"\\Erf:\")\n",
    "print(\"  Exact :\", x.erf()[:print_terms])\n",
    "with cfg.temp_override({\"functions.erf_method\": 'Taylor'}):\n",
    "    start1 = timeit.default_timer()\n",
    "    for _ in range(num_iters):\n",
    "        z_enc = x_enc.erf()  # Private\n",
    "    print(\"  Approx:\", num_iters, \"iterations in\",  timeit.default_timer() - start1, \"sec.:\", z_enc.get_plain_text()[:print_terms])\n",
    "    print(\"  Diff:\", (x.erf()-z_enc.get_plain_text()).abs().mean(), (x.erf()-z_enc.get_plain_text()).abs().max())\n",
    "with cfg.temp_override({\"functions.erf_method\": 'lut'}):\n",
    "    start1 = timeit.default_timer()\n",
    "    for _ in range(num_iters):\n",
    "        z_enc = x_enc.erf()  # Private\n",
    "    print(\"  LUT   :\", num_iters, \"iterations in\",  timeit.default_timer() - start1, \"sec.:\", z_enc.get_plain_text()[:print_terms])\n",
    "    print(\"  Diff:\", (x.erf()-z_enc.get_plain_text()).abs().mean(), (x.erf()-z_enc.get_plain_text()).abs().max())\n",
    "\n"
   ]
  },
  {
   "cell_type": "markdown",
   "metadata": {},
   "source": [
    "#### Advanced mathematics\n",
    "We are also able to compute more advanced mathematical functions on ```CrypTensors``` using iterative approximations. CrypTen provides MPC support for functions like reciprocal, exponential, logarithm, square root, tanh, etc. Notice that these are subject to numerical error due to the approximations used. \n",
    "\n",
    "Additionally, note that some of these functions will fail silently when input values are outside of the range of convergence for the approximations used. These do not produce errors because value are encrypted and cannot be checked without decryption. Exercise caution when using these functions. (It is good practice here to normalize input values for certain models.)"
   ]
  }
 ],
 "metadata": {
  "kernelspec": {
   "display_name": "Python 3",
   "language": "python",
   "name": "python3"
  },
  "language_info": {
   "codemirror_mode": {
    "name": "ipython",
    "version": 3
   },
   "file_extension": ".py",
   "mimetype": "text/x-python",
   "name": "python",
   "nbconvert_exporter": "python",
   "pygments_lexer": "ipython3",
   "version": "3.11.4"
  }
 },
 "nbformat": 4,
 "nbformat_minor": 2
}
