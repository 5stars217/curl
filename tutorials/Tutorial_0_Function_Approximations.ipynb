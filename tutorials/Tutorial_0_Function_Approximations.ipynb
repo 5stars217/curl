{
 "cells": [
  {
   "cell_type": "markdown",
   "metadata": {
    "collapsed": true
   },
   "source": [
    "# Tutorial 1: Basics of CrypTen Tensors\n",
    "\n",
    "We now have a high-level understanding of how secure MPC works. Through these tutorials, we will explain how to use CrypTen to carry out secure operations on encrypted tensors. In this tutorial, we will introduce a fundamental building block in CrypTen, called a ```CrypTensor```.  ```CrypTensors``` are encrypted ```torch``` tensors that can be used for computing securely on data. \n",
    "\n",
    "CrypTen currently only supports secure MPC protocols (though we intend to add support for other advanced encryption protocols). Using the ```mpc``` backend, ```CrypTensors``` act as ```torch``` tensors whose values are encrypted using secure MPC protocols. Tensors created using the ```mpc``` backend are called ```MPCTensors```. We will go into greater detail about ```MPCTensors``` in Tutorial 2. \n",
    "\n",
    "Let's begin by importing ```crypten``` and ```torch``` libraries. (If the imports fail, please see the installation instructions in the README.)"
   ]
  },
  {
   "cell_type": "code",
   "execution_count": 1,
   "metadata": {},
   "outputs": [
    {
     "name": "stderr",
     "output_type": "stream",
     "text": [
      "/home/manuelsantos/.pyenv/versions/3.7.17/envs/curl-venv/lib/python3.7/site-packages/torch/cuda/__init__.py:52: UserWarning: CUDA initialization: Unexpected error from cudaGetDeviceCount(). Did you run some cuda functions before calling NumCudaDevices() that might have already set an error? Error 804: forward compatibility was attempted on non supported HW (Triggered internally at  /pytorch/c10/cuda/CUDAFunctions.cpp:109.)\n",
      "  return torch._C._cuda_getDeviceCount() > 0\n"
     ]
    }
   ],
   "source": [
    "import curl\n",
    "import torch\n",
    "from curl.config import cfg\n",
    "import timeit\n",
    "import curl.communicator as comm\n",
    "import logging\n",
    "import matplotlib.pyplot as plt\n",
    "import numpy as np\n",
    "\n",
    "curl.init()\n",
    "# logging.getLogger().setLevel(logging.INFO)\n",
    "\n",
    "# torch.set_num_threads(1)\n",
    "\n",
    "# comm.get().set_verbosity(True)\n",
    "# ... do stuff ..\n",
    "# comm.get().print_communication_stats()\n",
    "\n",
    "def print_diff(x, z_enc):\n",
    "    diff = torch.abs(x - z_enc.get_plain_text()).numpy()\n",
    "    relative = torch.abs((z_enc.get_plain_text()-x)/x)\n",
    "    relative = relative[relative != float(\"inf\")].numpy()\n",
    "    relative = relative[~np.isnan(relative)]\n",
    "    print(f\"TAE: {diff.sum():e}, MAE: {diff.mean():e}, MRE: {relative.mean():e}, MAX: {diff.max():e}, ARGMAX: {diff.argmax()}\")\n",
    "    # print(diff[:print_terms])\n",
    "    plt.plot(diff)\n",
    "    \n",
    "def print_diff_numb(x, z_enc):\n",
    "    diff = torch.abs(x - z_enc.get_plain_text()).numpy()\n",
    "    relative = torch.abs((z_enc.get_plain_text()-x)/x)\n",
    "    relative = relative[relative != float(\"inf\")].numpy()\n",
    "    relative = relative[~np.isnan(relative)]\n",
    "    print(f\"TAE: {diff.sum():e}, MAE: {diff.mean():e}, MRE: {relative.mean():e}, MAX: {diff.max():e}, ARGMAX: {diff.argmax()}\")\n",
    "num_iters = 1\n",
    "print_terms = 1\n",
    "\n",
    "def print_app(name, end_time, start_time):\n",
    "    print(f\"  {name}: {num_iters} iterations in {end_time - start_time} sec.\") # : {z_enc.get_plain_text()[:print_terms]}\")\n"
   ]
  },
  {
   "cell_type": "markdown",
   "metadata": {},
   "source": [
    "## Check truncation protocol"
   ]
  },
  {
   "cell_type": "code",
   "execution_count": null,
   "metadata": {},
   "outputs": [],
   "source": [
    "l = 20\n",
    "m = 2\n",
    "\n",
    "\n",
    "import curl.mpc as mpc\n",
    "\n",
    "@mpc.run_multiprocess(world_size=2)\n",
    "def test_trunc():\n",
    "    for a in range(-2**2, 2**2):\n",
    "        e = ((a * 2**16) // 2**m) % 2**64\n",
    "        a_enc = curl.cryptensor([a, a])\n",
    "        a_raw = a_enc[0].reveal()\n",
    "        y_enc = a_enc.egk_trunc_pr(l, m)\n",
    "        y = y_enc.reveal()\n",
    "        curl.print(\"a=\", a, \"a_raw=\", a_raw, \"e=\", e, \"y=\", y)\n",
    "        curl.print(\"\\n\")\n",
    "\n",
    "test_trunc()"
   ]
  },
  {
   "cell_type": "code",
   "execution_count": 16,
   "metadata": {},
   "outputs": [
    {
     "ename": "KeyboardInterrupt",
     "evalue": "",
     "output_type": "error",
     "traceback": [
      "\u001b[0;31m---------------------------------------------------------------------------\u001b[0m",
      "\u001b[0;31mKeyboardInterrupt\u001b[0m                         Traceback (most recent call last)",
      "\u001b[0;32m/tmp/ipykernel_141093/722946769.py\u001b[0m in \u001b[0;36m<module>\u001b[0;34m\u001b[0m\n\u001b[1;32m     11\u001b[0m     \u001b[0mcrypten\u001b[0m\u001b[0;34m.\u001b[0m\u001b[0mprint\u001b[0m\u001b[0;34m(\u001b[0m\u001b[0mc_enc\u001b[0m\u001b[0;34m.\u001b[0m\u001b[0mget_plain_text\u001b[0m\u001b[0;34m(\u001b[0m\u001b[0;34m)\u001b[0m\u001b[0;34m)\u001b[0m\u001b[0;34m\u001b[0m\u001b[0;34m\u001b[0m\u001b[0m\n\u001b[1;32m     12\u001b[0m \u001b[0;34m\u001b[0m\u001b[0m\n\u001b[0;32m---> 13\u001b[0;31m \u001b[0mtest_sum\u001b[0m\u001b[0;34m(\u001b[0m\u001b[0;34m)\u001b[0m\u001b[0;34m\u001b[0m\u001b[0;34m\u001b[0m\u001b[0m\n\u001b[0m",
      "\u001b[0;32m~/curl/crypten/mpc/context.py\u001b[0m in \u001b[0;36mwrapper\u001b[0;34m(*args, **kwargs)\u001b[0m\n\u001b[1;32m     95\u001b[0m \u001b[0;34m\u001b[0m\u001b[0m\n\u001b[1;32m     96\u001b[0m             \u001b[0;32mfor\u001b[0m \u001b[0mprocess\u001b[0m \u001b[0;32min\u001b[0m \u001b[0mprocesses\u001b[0m\u001b[0;34m:\u001b[0m\u001b[0;34m\u001b[0m\u001b[0;34m\u001b[0m\u001b[0m\n\u001b[0;32m---> 97\u001b[0;31m                 \u001b[0mprocess\u001b[0m\u001b[0;34m.\u001b[0m\u001b[0mjoin\u001b[0m\u001b[0;34m(\u001b[0m\u001b[0;34m)\u001b[0m\u001b[0;34m\u001b[0m\u001b[0;34m\u001b[0m\u001b[0m\n\u001b[0m\u001b[1;32m     98\u001b[0m \u001b[0;34m\u001b[0m\u001b[0m\n\u001b[1;32m     99\u001b[0m             \u001b[0;32mif\u001b[0m \u001b[0mwas_initialized\u001b[0m\u001b[0;34m:\u001b[0m\u001b[0;34m\u001b[0m\u001b[0;34m\u001b[0m\u001b[0m\n",
      "\u001b[0;32m~/.pyenv/versions/3.7.17/lib/python3.7/multiprocessing/process.py\u001b[0m in \u001b[0;36mjoin\u001b[0;34m(self, timeout)\u001b[0m\n\u001b[1;32m    138\u001b[0m         \u001b[0;32massert\u001b[0m \u001b[0mself\u001b[0m\u001b[0;34m.\u001b[0m\u001b[0m_parent_pid\u001b[0m \u001b[0;34m==\u001b[0m \u001b[0mos\u001b[0m\u001b[0;34m.\u001b[0m\u001b[0mgetpid\u001b[0m\u001b[0;34m(\u001b[0m\u001b[0;34m)\u001b[0m\u001b[0;34m,\u001b[0m \u001b[0;34m'can only join a child process'\u001b[0m\u001b[0;34m\u001b[0m\u001b[0;34m\u001b[0m\u001b[0m\n\u001b[1;32m    139\u001b[0m         \u001b[0;32massert\u001b[0m \u001b[0mself\u001b[0m\u001b[0;34m.\u001b[0m\u001b[0m_popen\u001b[0m \u001b[0;32mis\u001b[0m \u001b[0;32mnot\u001b[0m \u001b[0;32mNone\u001b[0m\u001b[0;34m,\u001b[0m \u001b[0;34m'can only join a started process'\u001b[0m\u001b[0;34m\u001b[0m\u001b[0;34m\u001b[0m\u001b[0m\n\u001b[0;32m--> 140\u001b[0;31m         \u001b[0mres\u001b[0m \u001b[0;34m=\u001b[0m \u001b[0mself\u001b[0m\u001b[0;34m.\u001b[0m\u001b[0m_popen\u001b[0m\u001b[0;34m.\u001b[0m\u001b[0mwait\u001b[0m\u001b[0;34m(\u001b[0m\u001b[0mtimeout\u001b[0m\u001b[0;34m)\u001b[0m\u001b[0;34m\u001b[0m\u001b[0;34m\u001b[0m\u001b[0m\n\u001b[0m\u001b[1;32m    141\u001b[0m         \u001b[0;32mif\u001b[0m \u001b[0mres\u001b[0m \u001b[0;32mis\u001b[0m \u001b[0;32mnot\u001b[0m \u001b[0;32mNone\u001b[0m\u001b[0;34m:\u001b[0m\u001b[0;34m\u001b[0m\u001b[0;34m\u001b[0m\u001b[0m\n\u001b[1;32m    142\u001b[0m             \u001b[0m_children\u001b[0m\u001b[0;34m.\u001b[0m\u001b[0mdiscard\u001b[0m\u001b[0;34m(\u001b[0m\u001b[0mself\u001b[0m\u001b[0;34m)\u001b[0m\u001b[0;34m\u001b[0m\u001b[0;34m\u001b[0m\u001b[0m\n",
      "\u001b[0;32m~/.pyenv/versions/3.7.17/lib/python3.7/multiprocessing/popen_fork.py\u001b[0m in \u001b[0;36mwait\u001b[0;34m(self, timeout)\u001b[0m\n\u001b[1;32m     46\u001b[0m                     \u001b[0;32mreturn\u001b[0m \u001b[0;32mNone\u001b[0m\u001b[0;34m\u001b[0m\u001b[0;34m\u001b[0m\u001b[0m\n\u001b[1;32m     47\u001b[0m             \u001b[0;31m# This shouldn't block if wait() returned successfully.\u001b[0m\u001b[0;34m\u001b[0m\u001b[0;34m\u001b[0m\u001b[0;34m\u001b[0m\u001b[0m\n\u001b[0;32m---> 48\u001b[0;31m             \u001b[0;32mreturn\u001b[0m \u001b[0mself\u001b[0m\u001b[0;34m.\u001b[0m\u001b[0mpoll\u001b[0m\u001b[0;34m(\u001b[0m\u001b[0mos\u001b[0m\u001b[0;34m.\u001b[0m\u001b[0mWNOHANG\u001b[0m \u001b[0;32mif\u001b[0m \u001b[0mtimeout\u001b[0m \u001b[0;34m==\u001b[0m \u001b[0;36m0.0\u001b[0m \u001b[0;32melse\u001b[0m \u001b[0;36m0\u001b[0m\u001b[0;34m)\u001b[0m\u001b[0;34m\u001b[0m\u001b[0;34m\u001b[0m\u001b[0m\n\u001b[0m\u001b[1;32m     49\u001b[0m         \u001b[0;32mreturn\u001b[0m \u001b[0mself\u001b[0m\u001b[0;34m.\u001b[0m\u001b[0mreturncode\u001b[0m\u001b[0;34m\u001b[0m\u001b[0;34m\u001b[0m\u001b[0m\n\u001b[1;32m     50\u001b[0m \u001b[0;34m\u001b[0m\u001b[0m\n",
      "\u001b[0;32m~/.pyenv/versions/3.7.17/lib/python3.7/multiprocessing/popen_fork.py\u001b[0m in \u001b[0;36mpoll\u001b[0;34m(self, flag)\u001b[0m\n\u001b[1;32m     26\u001b[0m         \u001b[0;32mif\u001b[0m \u001b[0mself\u001b[0m\u001b[0;34m.\u001b[0m\u001b[0mreturncode\u001b[0m \u001b[0;32mis\u001b[0m \u001b[0;32mNone\u001b[0m\u001b[0;34m:\u001b[0m\u001b[0;34m\u001b[0m\u001b[0;34m\u001b[0m\u001b[0m\n\u001b[1;32m     27\u001b[0m             \u001b[0;32mtry\u001b[0m\u001b[0;34m:\u001b[0m\u001b[0;34m\u001b[0m\u001b[0;34m\u001b[0m\u001b[0m\n\u001b[0;32m---> 28\u001b[0;31m                 \u001b[0mpid\u001b[0m\u001b[0;34m,\u001b[0m \u001b[0msts\u001b[0m \u001b[0;34m=\u001b[0m \u001b[0mos\u001b[0m\u001b[0;34m.\u001b[0m\u001b[0mwaitpid\u001b[0m\u001b[0;34m(\u001b[0m\u001b[0mself\u001b[0m\u001b[0;34m.\u001b[0m\u001b[0mpid\u001b[0m\u001b[0;34m,\u001b[0m \u001b[0mflag\u001b[0m\u001b[0;34m)\u001b[0m\u001b[0;34m\u001b[0m\u001b[0;34m\u001b[0m\u001b[0m\n\u001b[0m\u001b[1;32m     29\u001b[0m             \u001b[0;32mexcept\u001b[0m \u001b[0mOSError\u001b[0m \u001b[0;32mas\u001b[0m \u001b[0me\u001b[0m\u001b[0;34m:\u001b[0m\u001b[0;34m\u001b[0m\u001b[0;34m\u001b[0m\u001b[0m\n\u001b[1;32m     30\u001b[0m                 \u001b[0;31m# Child process not yet created. See #1731717\u001b[0m\u001b[0;34m\u001b[0m\u001b[0;34m\u001b[0m\u001b[0;34m\u001b[0m\u001b[0m\n",
      "\u001b[0;31mKeyboardInterrupt\u001b[0m: "
     ]
    }
   ],
   "source": [
    "import curl.mpc as mpc\n",
    "\n",
    "@mpc.run_multiprocess(world_size=1)\n",
    "def test_sum():\n",
    "\n",
    "    a_enc = curl.cryptensor([2.1123, 2.14533])\n",
    "    b_enc = curl.cryptensor(2, precision=0)\n",
    "\n",
    "    c_enc = a_enc * b_enc\n",
    "\n",
    "    curl.print(c_enc.get_plain_text())\n",
    "\n",
    "test_sum()"
   ]
  },
  {
   "cell_type": "code",
   "execution_count": 14,
   "metadata": {},
   "outputs": [
    {
     "data": {
      "text/plain": [
       "4.29066684"
      ]
     },
     "execution_count": 14,
     "metadata": {},
     "output_type": "execute_result"
    }
   ],
   "source": [
    "2*2.14533342"
   ]
  },
  {
   "cell_type": "code",
   "execution_count": 44,
   "metadata": {},
   "outputs": [
    {
     "name": "stdout",
     "output_type": "stream",
     "text": [
      "==== CrypTen ====\n",
      "Total number of correctness errors: 40\n",
      "\n",
      "\n",
      "====   EGK   ====\n",
      "Total number of correctness errors: 0\n"
     ]
    },
    {
     "data": {
      "text/plain": [
       "[None, None]"
      ]
     },
     "execution_count": 44,
     "metadata": {},
     "output_type": "execute_result"
    }
   ],
   "source": [
    "import torch\n",
    "\n",
    "import curl.mpc as mpc\n",
    "\n",
    "\n",
    "@mpc.run_multiprocess(world_size=2)\n",
    "def test_correctness_error():\n",
    "    threshold_error = 2**20\n",
    "    samples = 2**25\n",
    "    tensor = torch.rand(samples) * 128\n",
    "    result = tensor.clone()\n",
    "    result = tensor * tensor\n",
    "    a_enc = curl.cryptensor(tensor)\n",
    "\n",
    "    with cfg.temp_override({\"encoder.trunc_method.prod\": 'crypten'}):\n",
    "        curl.print(\"==== CrypTen ====\")\n",
    "        num_errors = 0\n",
    "        a_sq_enc = a_enc * a_enc\n",
    "        a_sq = a_sq_enc.get_plain_text()\n",
    "        \n",
    "        abs_diff = torch.abs(a_sq - result)\n",
    "        # Check which elements are greater than or equal to threshold_error\n",
    "        errors = abs_diff >= threshold_error\n",
    "        # Count the number of such elements\n",
    "        num_errors = torch.sum(errors).item()\n",
    "        curl.print(\"Total number of correctness errors:\", num_errors)\n",
    "        curl.print(\"\\n\")\n",
    "    \n",
    "    with cfg.temp_override({\"encoder.trunc_method.prod\": 'egk'}):\n",
    "        curl.print(\"====   EGK   ====\")\n",
    "        num_errors = 0\n",
    "        a_sq_enc = a_enc * a_enc\n",
    "        a_sq = a_sq_enc.get_plain_text()\n",
    "        \n",
    "        abs_diff = torch.abs(a_sq - result)\n",
    "        # Check which elements are greater than or equal to threshold_error\n",
    "        errors = abs_diff >= threshold_error\n",
    "        # Count the number of such elements\n",
    "        num_errors = torch.sum(errors).item()\n",
    "        curl.print(\"Total number of correctness errors:\", num_errors)\n",
    "           \n",
    "\n",
    "test_correctness_error()"
   ]
  },
  {
   "cell_type": "code",
   "execution_count": 2,
   "metadata": {},
   "outputs": [],
   "source": [
    "def print_diff(x, z_enc):\n",
    "    diff = torch.abs(x - z_enc.get_plain_text()).numpy()\n",
    "    relative = torch.abs((z_enc.get_plain_text()-x)/x)\n",
    "    relative = relative[relative != float(\"inf\")].numpy()\n",
    "    relative = relative[~np.isnan(relative)]\n",
    "    print(f\"TAE: {diff.sum():e}, MAE: {diff.mean():e}, MRE: {relative.mean():e}, MAX: {diff.max():e}, ARGMAX: {diff.argmax()}\")\n",
    "    # print(diff[:print_terms])\n",
    "    plt.plot(diff)\n",
    "    \n",
    "def print_diff_numb(x, z_enc):\n",
    "    diff = torch.abs(x - z_enc.get_plain_text()).numpy()\n",
    "    relative = torch.abs((z_enc.get_plain_text()-x)/x)\n",
    "    relative = relative[relative != float(\"inf\")].numpy()\n",
    "    relative = relative[~np.isnan(relative)]\n",
    "    print(f\"TAE: {diff.sum():e}, MAE: {diff.mean():e}, MRE: {relative.mean():e}, MAX: {diff.max():e}, ARGMAX: {diff.argmax()}\")\n",
    "num_iters = 1\n",
    "print_terms = 1\n",
    "\n",
    "def print_app(name, end_time, start_time):\n",
    "    print(f\"  {name}: {num_iters} iterations in {end_time - start_time} sec.\") # : {z_enc.get_plain_text()[:print_terms]}\")\n"
   ]
  },
  {
   "cell_type": "markdown",
   "metadata": {},
   "source": [
    "## Initial tests"
   ]
  },
  {
   "cell_type": "code",
   "execution_count": 6,
   "metadata": {},
   "outputs": [
    {
     "name": "stdout",
     "output_type": "stream",
     "text": [
      "\n",
      "x is: tensor([ 5.,  6.,  7.,  8.,  9., 10., 11., 12., 13., 14.])\n",
      "\n",
      "div is: tensor([1.2500, 1.5000, 1.7500, 2.0000, 2.2500, 2.5000, 2.7500, 3.0000, 3.2500,\n",
      "        3.5000])\n",
      "\n",
      "mod is: tensor([0., 0., 0., 0., 0., 0., 0., 0., 0., 0.])\n",
      "\n",
      "div is: tensor([1.2500, 1.5000, 1.7500, 2.0000, 2.2500, 2.5000, 2.7500, 3.0000, 3.2500,\n",
      "        3.5000])\n",
      "\n",
      "mod is: tensor([0., 0., 0., 0., 0., 0., 0., 0., 0., 0.])\n"
     ]
    }
   ],
   "source": [
    "x_enc = curl.cryptensor(torch.arange(5, 15, 1))   \n",
    "# m = torch.arange(3, 10, 1)   \n",
    "curl.print(\"\\nx is:\", x_enc.get_plain_text())\n",
    "div_enc, mod_enc = x_enc.divmod(4)\n",
    "curl.print(\"\\ndiv is:\", div_enc.get_plain_text())\n",
    "curl.print(\"\\nmod is:\", mod_enc.get_plain_text())\n",
    "div_enc, mod_enc = x_enc.egk_truncmod_pr(62, 2)\n",
    "curl.print(\"\\ndiv is:\", div_enc.get_plain_text())\n",
    "curl.print(\"\\nmod is:\", mod_enc.get_plain_text())"
   ]
  },
  {
   "cell_type": "code",
   "execution_count": 17,
   "metadata": {},
   "outputs": [
    {
     "ename": "KeyboardInterrupt",
     "evalue": "",
     "output_type": "error",
     "traceback": [
      "\u001b[0;31m---------------------------------------------------------------------------\u001b[0m",
      "\u001b[0;31mKeyboardInterrupt\u001b[0m                         Traceback (most recent call last)",
      "\u001b[0;32m/tmp/ipykernel_77308/3996017174.py\u001b[0m in \u001b[0;36m<module>\u001b[0;34m\u001b[0m\n\u001b[1;32m     13\u001b[0m     \u001b[0mcrypten\u001b[0m\u001b[0;34m.\u001b[0m\u001b[0mprint\u001b[0m\u001b[0;34m(\u001b[0m\u001b[0;34m\"\\nmod is:\"\u001b[0m\u001b[0;34m,\u001b[0m \u001b[0mmod_enc\u001b[0m\u001b[0;34m.\u001b[0m\u001b[0mget_plain_text\u001b[0m\u001b[0;34m(\u001b[0m\u001b[0;34m)\u001b[0m\u001b[0;34m)\u001b[0m\u001b[0;34m\u001b[0m\u001b[0;34m\u001b[0m\u001b[0m\n\u001b[1;32m     14\u001b[0m \u001b[0;34m\u001b[0m\u001b[0m\n\u001b[0;32m---> 15\u001b[0;31m \u001b[0mtest_sum\u001b[0m\u001b[0;34m(\u001b[0m\u001b[0;34m)\u001b[0m\u001b[0;34m\u001b[0m\u001b[0;34m\u001b[0m\u001b[0m\n\u001b[0m",
      "\u001b[0;32m~/curl/crypten/mpc/context.py\u001b[0m in \u001b[0;36mwrapper\u001b[0;34m(*args, **kwargs)\u001b[0m\n\u001b[1;32m     95\u001b[0m \u001b[0;34m\u001b[0m\u001b[0m\n\u001b[1;32m     96\u001b[0m             \u001b[0;32mfor\u001b[0m \u001b[0mprocess\u001b[0m \u001b[0;32min\u001b[0m \u001b[0mprocesses\u001b[0m\u001b[0;34m:\u001b[0m\u001b[0;34m\u001b[0m\u001b[0;34m\u001b[0m\u001b[0m\n\u001b[0;32m---> 97\u001b[0;31m                 \u001b[0mprocess\u001b[0m\u001b[0;34m.\u001b[0m\u001b[0mjoin\u001b[0m\u001b[0;34m(\u001b[0m\u001b[0;34m)\u001b[0m\u001b[0;34m\u001b[0m\u001b[0;34m\u001b[0m\u001b[0m\n\u001b[0m\u001b[1;32m     98\u001b[0m \u001b[0;34m\u001b[0m\u001b[0m\n\u001b[1;32m     99\u001b[0m             \u001b[0;32mif\u001b[0m \u001b[0mwas_initialized\u001b[0m\u001b[0;34m:\u001b[0m\u001b[0;34m\u001b[0m\u001b[0;34m\u001b[0m\u001b[0m\n",
      "\u001b[0;32m~/.pyenv/versions/3.7.17/lib/python3.7/multiprocessing/process.py\u001b[0m in \u001b[0;36mjoin\u001b[0;34m(self, timeout)\u001b[0m\n\u001b[1;32m    138\u001b[0m         \u001b[0;32massert\u001b[0m \u001b[0mself\u001b[0m\u001b[0;34m.\u001b[0m\u001b[0m_parent_pid\u001b[0m \u001b[0;34m==\u001b[0m \u001b[0mos\u001b[0m\u001b[0;34m.\u001b[0m\u001b[0mgetpid\u001b[0m\u001b[0;34m(\u001b[0m\u001b[0;34m)\u001b[0m\u001b[0;34m,\u001b[0m \u001b[0;34m'can only join a child process'\u001b[0m\u001b[0;34m\u001b[0m\u001b[0;34m\u001b[0m\u001b[0m\n\u001b[1;32m    139\u001b[0m         \u001b[0;32massert\u001b[0m \u001b[0mself\u001b[0m\u001b[0;34m.\u001b[0m\u001b[0m_popen\u001b[0m \u001b[0;32mis\u001b[0m \u001b[0;32mnot\u001b[0m \u001b[0;32mNone\u001b[0m\u001b[0;34m,\u001b[0m \u001b[0;34m'can only join a started process'\u001b[0m\u001b[0;34m\u001b[0m\u001b[0;34m\u001b[0m\u001b[0m\n\u001b[0;32m--> 140\u001b[0;31m         \u001b[0mres\u001b[0m \u001b[0;34m=\u001b[0m \u001b[0mself\u001b[0m\u001b[0;34m.\u001b[0m\u001b[0m_popen\u001b[0m\u001b[0;34m.\u001b[0m\u001b[0mwait\u001b[0m\u001b[0;34m(\u001b[0m\u001b[0mtimeout\u001b[0m\u001b[0;34m)\u001b[0m\u001b[0;34m\u001b[0m\u001b[0;34m\u001b[0m\u001b[0m\n\u001b[0m\u001b[1;32m    141\u001b[0m         \u001b[0;32mif\u001b[0m \u001b[0mres\u001b[0m \u001b[0;32mis\u001b[0m \u001b[0;32mnot\u001b[0m \u001b[0;32mNone\u001b[0m\u001b[0;34m:\u001b[0m\u001b[0;34m\u001b[0m\u001b[0;34m\u001b[0m\u001b[0m\n\u001b[1;32m    142\u001b[0m             \u001b[0m_children\u001b[0m\u001b[0;34m.\u001b[0m\u001b[0mdiscard\u001b[0m\u001b[0;34m(\u001b[0m\u001b[0mself\u001b[0m\u001b[0;34m)\u001b[0m\u001b[0;34m\u001b[0m\u001b[0;34m\u001b[0m\u001b[0m\n",
      "\u001b[0;32m~/.pyenv/versions/3.7.17/lib/python3.7/multiprocessing/popen_fork.py\u001b[0m in \u001b[0;36mwait\u001b[0;34m(self, timeout)\u001b[0m\n\u001b[1;32m     46\u001b[0m                     \u001b[0;32mreturn\u001b[0m \u001b[0;32mNone\u001b[0m\u001b[0;34m\u001b[0m\u001b[0;34m\u001b[0m\u001b[0m\n\u001b[1;32m     47\u001b[0m             \u001b[0;31m# This shouldn't block if wait() returned successfully.\u001b[0m\u001b[0;34m\u001b[0m\u001b[0;34m\u001b[0m\u001b[0;34m\u001b[0m\u001b[0m\n\u001b[0;32m---> 48\u001b[0;31m             \u001b[0;32mreturn\u001b[0m \u001b[0mself\u001b[0m\u001b[0;34m.\u001b[0m\u001b[0mpoll\u001b[0m\u001b[0;34m(\u001b[0m\u001b[0mos\u001b[0m\u001b[0;34m.\u001b[0m\u001b[0mWNOHANG\u001b[0m \u001b[0;32mif\u001b[0m \u001b[0mtimeout\u001b[0m \u001b[0;34m==\u001b[0m \u001b[0;36m0.0\u001b[0m \u001b[0;32melse\u001b[0m \u001b[0;36m0\u001b[0m\u001b[0;34m)\u001b[0m\u001b[0;34m\u001b[0m\u001b[0;34m\u001b[0m\u001b[0m\n\u001b[0m\u001b[1;32m     49\u001b[0m         \u001b[0;32mreturn\u001b[0m \u001b[0mself\u001b[0m\u001b[0;34m.\u001b[0m\u001b[0mreturncode\u001b[0m\u001b[0;34m\u001b[0m\u001b[0;34m\u001b[0m\u001b[0m\n\u001b[1;32m     50\u001b[0m \u001b[0;34m\u001b[0m\u001b[0m\n",
      "\u001b[0;32m~/.pyenv/versions/3.7.17/lib/python3.7/multiprocessing/popen_fork.py\u001b[0m in \u001b[0;36mpoll\u001b[0;34m(self, flag)\u001b[0m\n\u001b[1;32m     26\u001b[0m         \u001b[0;32mif\u001b[0m \u001b[0mself\u001b[0m\u001b[0;34m.\u001b[0m\u001b[0mreturncode\u001b[0m \u001b[0;32mis\u001b[0m \u001b[0;32mNone\u001b[0m\u001b[0;34m:\u001b[0m\u001b[0;34m\u001b[0m\u001b[0;34m\u001b[0m\u001b[0m\n\u001b[1;32m     27\u001b[0m             \u001b[0;32mtry\u001b[0m\u001b[0;34m:\u001b[0m\u001b[0;34m\u001b[0m\u001b[0;34m\u001b[0m\u001b[0m\n\u001b[0;32m---> 28\u001b[0;31m                 \u001b[0mpid\u001b[0m\u001b[0;34m,\u001b[0m \u001b[0msts\u001b[0m \u001b[0;34m=\u001b[0m \u001b[0mos\u001b[0m\u001b[0;34m.\u001b[0m\u001b[0mwaitpid\u001b[0m\u001b[0;34m(\u001b[0m\u001b[0mself\u001b[0m\u001b[0;34m.\u001b[0m\u001b[0mpid\u001b[0m\u001b[0;34m,\u001b[0m \u001b[0mflag\u001b[0m\u001b[0;34m)\u001b[0m\u001b[0;34m\u001b[0m\u001b[0;34m\u001b[0m\u001b[0m\n\u001b[0m\u001b[1;32m     29\u001b[0m             \u001b[0;32mexcept\u001b[0m \u001b[0mOSError\u001b[0m \u001b[0;32mas\u001b[0m \u001b[0me\u001b[0m\u001b[0;34m:\u001b[0m\u001b[0;34m\u001b[0m\u001b[0;34m\u001b[0m\u001b[0m\n\u001b[1;32m     30\u001b[0m                 \u001b[0;31m# Child process not yet created. See #1731717\u001b[0m\u001b[0;34m\u001b[0m\u001b[0;34m\u001b[0m\u001b[0;34m\u001b[0m\u001b[0m\n",
      "\u001b[0;31mKeyboardInterrupt\u001b[0m: "
     ]
    }
   ],
   "source": [
    "import curl.mpc as mpc\n",
    "\n",
    "@mpc.run_multiprocess(world_size=1)\n",
    "def test_sum():\n",
    "    x_enc = curl.cryptensor(torch.arange(5, 15, 1))   \n",
    "    # m = torch.arange(3, 10, 1)   \n",
    "    curl.print(\"\\nx is:\", x_enc.get_plain_text())\n",
    "    div_enc, mod_enc = x_enc.divmod(4)\n",
    "    curl.print(\"\\ndiv is:\", div_enc.get_plain_text())\n",
    "    curl.print(\"\\nmod is:\", mod_enc.get_plain_text())\n",
    "    div_enc, mod_enc = x_enc.egk_truncmod_pr(62, 2)\n",
    "    curl.print(\"\\ndiv is:\", div_enc.get_plain_text())\n",
    "    curl.print(\"\\nmod is:\", mod_enc.get_plain_text())\n",
    "\n",
    "test_sum()"
   ]
  },
  {
   "cell_type": "markdown",
   "metadata": {},
   "source": [
    "## Negative exp (Checked - Crypten)"
   ]
  },
  {
   "cell_type": "markdown",
   "metadata": {},
   "source": [
    "Conclusion:\n",
    "- If we do not consider the interval [-1, 0] the bior gets really close to exp (almost the same)\n",
    "- CrypTen's approximation is always better.\n",
    "- Split is better with one party (no error) but gets worse with two parties."
   ]
  },
  {
   "cell_type": "code",
   "execution_count": null,
   "metadata": {},
   "outputs": [],
   "source": [
    "#Construct example input CrypTensor\n",
    "x = torch.arange(-64, 0, 0.001)\n",
    "# x = x.reshape([1600, 10])\n",
    "print(x.size())\n",
    "# x = torch.tensor([0.01, 0.5])\n",
    "x_enc = curl.cryptensor(x)\n",
    "\n",
    "print(\"Negative Exponential:\")\n",
    "# print(\"  Exact :\", x.exp()[:print_terms])\n",
    "with cfg.temp_override({\"functions.exp_method\": 'limit'}):\n",
    "    start1 = timeit.default_timer()\n",
    "    for _ in range(num_iters):\n",
    "        z_enc = x_enc.exp()  # Private\n",
    "    print_app(\"Approx\", timeit.default_timer(), start1)\n",
    "    # print(\"  Approx:\", num_iters, \"iterations in\",  timeit.default_timer() - start1, \"sec.:\", z_enc.get_plain_text()[:print_terms])\n",
    "    print_diff(x.exp(), z_enc)\n",
    "# with cfg.temp_override({\"functions.exp_method\": 'split', \"functions.exp_all_neg\": True}):\n",
    "#     start1 = timeit.default_timer()\n",
    "#     for _ in range(num_iters):\n",
    "#         z_enc = x_enc.exp()  # Private\n",
    "#     # print(\"  Nexp   :\", num_iters, \"iterations in\",  timeit.default_timer() - start1, \"sec.:\", z_enc.get_plain_text()[:print_terms])\n",
    "#     print_app(\"Nexp\", timeit.default_timer(), start1)\n",
    "#     print_diff(x.exp(), z_enc)\n",
    "# with cfg.temp_override({\"functions.exp_method\": 'haar', \"functions.exp_all_neg\": True}):\n",
    "#     start1 = timeit.default_timer()\n",
    "#     for _ in range(num_iters):\n",
    "#         z_enc = x_enc.exp()  # Private\n",
    "#     # print(\"  Haar   :\", num_iters, \"iterations in\",  timeit.default_timer() - start1, \"sec.:\", z_enc.get_plain_text()[:print_terms])\n",
    "#     print_app(\"Haar\", timeit.default_timer(), start1)\n",
    "#     print_diff(x.exp(), z_enc)\n",
    "with cfg.temp_override({\"functions.exp_method\": 'bior', \"functions.exp_all_neg\": True}):\n",
    "    start1 = timeit.default_timer()\n",
    "    for _ in range(num_iters):\n",
    "        z_enc = x_enc.exp()  # Private\n",
    "    # print(\"  Bior   :\", num_iters, \"iterations in\",  timeit.default_timer() - start1, \"sec.:\", z_enc.get_plain_text()[:print_terms])\n",
    "    print_app(\"Bior\", timeit.default_timer(), start1)\n",
    "    print_diff(x.exp(), z_enc)"
   ]
  },
  {
   "cell_type": "code",
   "execution_count": null,
   "metadata": {},
   "outputs": [],
   "source": [
    "plt.plot(z_enc.get_plain_text())"
   ]
  },
  {
   "cell_type": "code",
   "execution_count": null,
   "metadata": {},
   "outputs": [],
   "source": [
    "#Construct example input CrypTensor\n",
    "x = torch.arange(-8, 8, 0.3)\n",
    "print(x.size())\n",
    "# x = torch.tensor([0.01, 0.5])\n",
    "x_enc = curl.cryptensor(x)\n",
    "\n",
    "print(\"Exponential:\")\n",
    "print(\"  Exact :\", x.exp()[:print_terms])\n",
    "with cfg.temp_override({\"functions.exp_method\": 'limit'}):\n",
    "    start1 = timeit.default_timer()\n",
    "    for _ in range(num_iters):\n",
    "        z_enc = x_enc.exp()  # Private\n",
    "    print(\"  Approx:\", num_iters, \"iterations in\",  timeit.default_timer() - start1, \"sec.:\", z_enc.get_plain_text()[:print_terms])\n",
    "    print_diff(x.exp(), z_enc)\n",
    "with cfg.temp_override({\"functions.exp_method\": 'haar', \"functions.exp_all_neg\": False}):\n",
    "    start1 = timeit.default_timer()\n",
    "    for _ in range(num_iters):\n",
    "        z_enc = x_enc.exp()  # Private\n",
    "    print(\"  Haar  :\", num_iters, \"iterations in\",  timeit.default_timer() - start1, \"sec.:\", z_enc.get_plain_text()[:print_terms])\n",
    "    print_diff(x.exp(), z_enc)\n",
    "with cfg.temp_override({\"functions.exp_method\": 'bior', \"functions.exp_all_neg\": False}):\n",
    "    start1 = timeit.default_timer()\n",
    "    for _ in range(num_iters):\n",
    "        z_enc = x_enc.exp()  # Private\n",
    "    print(\"  Bior  :\", num_iters, \"iterations in\",  timeit.default_timer() - start1, \"sec.:\", z_enc.get_plain_text()[:print_terms])\n",
    "    print_diff(x.exp(), z_enc)"
   ]
  },
  {
   "cell_type": "code",
   "execution_count": null,
   "metadata": {},
   "outputs": [],
   "source": [
    "import curl.mpc as mpc\n",
    "\n",
    "\n",
    "@mpc.run_multiprocess(world_size=2)    \n",
    "def test_exp():\n",
    "    #Construct example input CrypTensor\n",
    "    # x = torch.arange(start=0.001, end=10, step=0.001)\n",
    "    x = torch.arange(-63, 0, 0.1)\n",
    "    print(x.size())\n",
    "    # x = torch.tensor([0.01, 0.5])\n",
    "    x_enc = curl.cryptensor(x)\n",
    "\n",
    "    print(\"Exponential:\")\n",
    "    print(\"  Exact :\", x.exp()[:print_terms])\n",
    "    with cfg.temp_override({\"functions.exp_method\": 'limit'}):\n",
    "        start1 = timeit.default_timer()\n",
    "        for _ in range(num_iters):\n",
    "            z_enc = x_enc.exp()  # Private\n",
    "        print(\"  Approx:\", num_iters, \"iterations in\",  timeit.default_timer() - start1, \"sec.:\", z_enc.get_plain_text()[:print_terms])\n",
    "        print_diff(x.exp(), z_enc)\n",
    "    with cfg.temp_override({\"functions.exp_method\": 'split'}):\n",
    "        start1 = timeit.default_timer()\n",
    "        for _ in range(num_iters):\n",
    "            z_enc = x_enc.exp()  # Private\n",
    "        print(\"  Split:\", num_iters, \"iterations in\",  timeit.default_timer() - start1, \"sec.:\", z_enc.get_plain_text()[:print_terms])\n",
    "        print_diff(x.exp(), z_enc)\n",
    "    with cfg.temp_override({\"functions.exp_method\": 'haar', \"functions.exp_all_neg\": True}):\n",
    "        start1 = timeit.default_timer()\n",
    "        for _ in range(num_iters):\n",
    "            z_enc = x_enc.exp()  # Private\n",
    "        print(\"  Haar  :\", num_iters, \"iterations in\",  timeit.default_timer() - start1, \"sec.:\", z_enc.get_plain_text()[:print_terms])\n",
    "        print_diff(x.exp(), z_enc)\n",
    "    with cfg.temp_override({\"functions.exp_method\": 'bior', \"functions.exp_all_neg\": True}):\n",
    "        start1 = timeit.default_timer()\n",
    "        for _ in range(num_iters):\n",
    "            z_enc = x_enc.exp()  # Private\n",
    "        print(\"  Bior  :\", num_iters, \"iterations in\",  timeit.default_timer() - start1, \"sec.:\", z_enc.get_plain_text()[:print_terms])\n",
    "        print_diff(x.exp(), z_enc)\n",
    "\n",
    "test_exp()"
   ]
  },
  {
   "cell_type": "markdown",
   "metadata": {},
   "source": [
    "## Reciprocal (checked)"
   ]
  },
  {
   "cell_type": "markdown",
   "metadata": {},
   "source": [
    "Conclusion:\n",
    "- Sometimes the errors get completelly off (e.g. reciprocal, if I run it several times the bior case 1 in 5 times explodes. If I decrease the set from [0, 64] to [0, 63], there is no issue then.\n",
    "- Note: Haar is more stable but the same happens. When we have a bad bior, then Haar is better."
   ]
  },
  {
   "cell_type": "code",
   "execution_count": 3,
   "metadata": {},
   "outputs": [
    {
     "name": "stdout",
     "output_type": "stream",
     "text": [
      "\n",
      "Reciprocal:\n",
      "  Haar: 1 iterations in 0.01567634000093676 sec.\n",
      "TAE: 1.168179e+00, MAE: 1.869086e-03, MRE: 8.627837e-03, MAX: 1.074371e-01, ARGMAX: 0\n",
      "  Bior: 1 iterations in 0.01038136600254802 sec.\n",
      "TAE: 3.619247e-01, MAE: 5.790796e-04, MRE: 1.322590e-03, MAX: 5.331892e-02, ARGMAX: 3\n"
     ]
    },
    {
     "data": {
      "image/png": "[encoded data removed]",
      "text/plain": [
       "<Figure size 640x480 with 1 Axes>"
      ]
     },
     "metadata": {},
     "output_type": "display_data"
    }
   ],
   "source": [
    "# x = torch.tensor([0.00005, 0.0001, 0.005, 0.01, 0.05, 0.1, 0.5, 1]) # , 5, 10, 50, 100 , 500, 1000, 5000, 10000, 50000])\n",
    "x = torch.arange(start=1, end=63.5, step=0.1)\n",
    "# x = torch.arange(start=1.01, end=10, step=0.01)\n",
    "# x = x.reshape((63, 100))\n",
    "x_enc = curl.cryptensor(x)\n",
    "\n",
    "print(\"\\nReciprocal:\")\n",
    "# print(\"  Exact :\", x.reciprocal()[:print_terms])\n",
    "# with cfg.temp_override({\"functions.reciprocal_method\": 'NR', \"functions.exp_method\": 'limit'}):\n",
    "#     start1 = timeit.default_timer()\n",
    "#     for _ in range(num_iters):\n",
    "#         z_enc = x_enc.reciprocal()  # Private\n",
    "#     # print(\"  Approx:\", num_iters, \"iterations in\",  timeit.default_timer() - start1, \"sec.:\", z_enc.get_plain_text()[:print_terms])\n",
    "#     print_app(\"Approx\", timeit.default_timer(), start1)\n",
    "#     print_diff(x.reciprocal(), z_enc)\n",
    "# with cfg.temp_override({\"functions.reciprocal_method\": 'log', \"functions.log_method\": 'iter'}):\n",
    "#     start1 = timeit.default_timer()\n",
    "#     for _ in range(num_iters):\n",
    "#         z_enc = x_enc.reciprocal()  # Private\n",
    "#     # print(\"  Approx:\", num_iters, \"iterations in\",  timeit.default_timer() - start1, \"sec.:\", z_enc.get_plain_text()[:print_terms])\n",
    "#     print_app(\"Log\", timeit.default_timer(), start1)\n",
    "#     print_diff(x.reciprocal(), z_enc)\n",
    "with cfg.temp_override({\"functions.reciprocal_method\": 'haar'}):\n",
    "    start1 = timeit.default_timer()\n",
    "    for _ in range(num_iters):\n",
    "        z_enc = x_enc.reciprocal()  # Private\n",
    "    # print(\"  Haar  :\", num_iters, \"iterations in\",  timeit.default_timer() - start1, \"sec.:\", z_enc.get_plain_text()[:print_terms])\n",
    "    print_app(\"Haar\", timeit.default_timer(), start1)\n",
    "    print_diff(x.reciprocal(), z_enc)\n",
    "with cfg.temp_override({\"functions.reciprocal_method\": 'bior'}):\n",
    "    start1 = timeit.default_timer()\n",
    "    for _ in range(num_iters):\n",
    "        z_enc = x_enc.reciprocal()  # Private\n",
    "    # print(\"  Bior  :\", num_iters, \"iterations in\",  timeit.default_timer() - start1, \"sec.:\", z_enc.get_plain_text()[:print_terms])\n",
    "    print_app(\"Bior\", timeit.default_timer(), start1)\n",
    "    print_diff(x.reciprocal(), z_enc)"
   ]
  },
  {
   "cell_type": "code",
   "execution_count": null,
   "metadata": {},
   "outputs": [],
   "source": [
    "import curl.mpc as mpc\n",
    "\n",
    "\n",
    "@mpc.run_multiprocess(world_size=2)    \n",
    "def test_rec():\n",
    "    #Construct example input CrypTensor\n",
    "    # x = torch.arange(start=0.001, end=10, step=0.001)\n",
    "    # x = torch.tensor([0.00005, 0.0001, 0.005, 0.01, 0.05, 0.1, 0.5, 1]) # , 5, 10, 50, 100 , 500, 1000, 5000, 10000, 50000])\n",
    "    # x = torch.arange(1.0, 64, 0.001)\n",
    "    # x = torch.arange(start=1.01, end=10, step=0.01)\n",
    "    x = torch.arange(start=1.01, end=64, step=0.01)\n",
    "    x = torch.arange(start=1, end=63.9, step=0.1)\n",
    "    # x = x.reshape((63, 100))\n",
    "    x_enc = curl.cryptensor(x)\n",
    "\n",
    "    print(\"\\nReciprocal:\")\n",
    "    # print(\"  Exact :\", x.reciprocal()[:print_terms])\n",
    "    with cfg.temp_override({\"functions.reciprocal_method\": 'NR', \"functions.exp_method\": 'limit'}):\n",
    "        start1 = timeit.default_timer()\n",
    "        for _ in range(num_iters):\n",
    "            z_enc = x_enc.reciprocal()  # Private\n",
    "        # print(\"  Approx:\", num_iters, \"iterations in\",  timeit.default_timer() - start1, \"sec.:\", z_enc.get_plain_text()[:print_terms])\n",
    "        print_app(\"Approx\", timeit.default_timer(), start1)\n",
    "        print_diff_numb(x.reciprocal(), z_enc)\n",
    "    with cfg.temp_override({\"functions.reciprocal_method\": 'log', \"functions.log_method\": 'iter'}):\n",
    "        start1 = timeit.default_timer()\n",
    "        for _ in range(num_iters):\n",
    "            z_enc = x_enc.reciprocal()  # Private\n",
    "        # print(\"  Approx:\", num_iters, \"iterations in\",  timeit.default_timer() - start1, \"sec.:\", z_enc.get_plain_text()[:print_terms])\n",
    "        print_app(\"Log\", timeit.default_timer(), start1)\n",
    "        print_diff_numb(x.reciprocal(), z_enc)\n",
    "    with cfg.temp_override({\"functions.reciprocal_method\": 'haar'}):\n",
    "        start1 = timeit.default_timer()\n",
    "        for _ in range(num_iters):\n",
    "            z_enc = x_enc.reciprocal()  # Private\n",
    "        # print(\"  Haar  :\", num_iters, \"iterations in\",  timeit.default_timer() - start1, \"sec.:\", z_enc.get_plain_text()[:print_terms])\n",
    "        print_app(\"Haar\", timeit.default_timer(), start1)\n",
    "        print_diff_numb(x.reciprocal(), z_enc)\n",
    "    with cfg.temp_override({\"functions.reciprocal_method\": 'bior'}):\n",
    "        start1 = timeit.default_timer()\n",
    "        for _ in range(num_iters):\n",
    "            z_enc = x_enc.reciprocal()  # Private\n",
    "        # print(\"  Bior  :\", num_iters, \"iterations in\",  timeit.default_timer() - start1, \"sec.:\", z_enc.get_plain_text()[:print_terms])\n",
    "        print_app(\"Bior\", timeit.default_timer(), start1)\n",
    "        print_diff_numb(x.reciprocal(), z_enc)\n",
    "    with cfg.temp_override({\"functions.reciprocal_method\": 'bior1'}):\n",
    "        start1 = timeit.default_timer()\n",
    "        for _ in range(num_iters):\n",
    "            z_enc = x_enc.reciprocal()  # Private\n",
    "        # print(\"  Bior  :\", num_iters, \"iterations in\",  timeit.default_timer() - start1, \"sec.:\", z_enc.get_plain_text()[:print_terms])\n",
    "        print_app(\"Bior1\", timeit.default_timer(), start1)\n",
    "        print_diff_numb(x.reciprocal(), z_enc)\n",
    "\n",
    "test_rec()"
   ]
  },
  {
   "cell_type": "markdown",
   "metadata": {},
   "source": [
    "## Logarithm (checked)"
   ]
  },
  {
   "cell_type": "markdown",
   "metadata": {},
   "source": [
    "Conclusion:\n",
    "- For torch.arange(0.1, 64, 0.1):\n",
    ">- Bior has better accuracy\n",
    "- For torch.arange(0.01, 64, 0.01):\n",
    ">- Haar has better accuracy"
   ]
  },
  {
   "cell_type": "code",
   "execution_count": 5,
   "metadata": {},
   "outputs": [
    {
     "name": "stdout",
     "output_type": "stream",
     "text": [
      "\n",
      "Logarithm (LUT faster):\n",
      "  Exact : tensor([0.0953])\n",
      "  Haar  : 1 iterations in 0.01975194599799579 sec.: tensor([0.3171])\n",
      "TAE: 6.131907e+00, MAE: 9.764182e-03, MRE: 1.207058e-02, MAX: 2.217674e-01, ARGMAX: 0\n",
      "  Bior  : 1 iterations in 0.020091307000257075 sec.: tensor([0.1022])\n",
      "TAE: 2.905892e-01, MAE: 4.627216e-04, MRE: 7.329173e-04, MAX: 3.972918e-02, ARGMAX: 2\n"
     ]
    },
    {
     "data": {
      "image/png": "[encoded data removed]",
      "text/plain": [
       "<Figure size 640x480 with 1 Axes>"
      ]
     },
     "metadata": {},
     "output_type": "display_data"
    }
   ],
   "source": [
    "x = torch.arange(1.1, 63.9, 0.1)\n",
    "x_enc = curl.cryptensor(x)\n",
    "\n",
    "print(\"\\nLogarithm (LUT faster):\")\n",
    "print(\"  Exact :\", x.log()[:print_terms])\n",
    "# with cfg.temp_override({\"functions.log_method\": 'iter'}):\n",
    "#     start1 = timeit.default_timer()\n",
    "#     for _ in range(num_iters):\n",
    "#         z_enc = x_enc.log()  # Private\n",
    "#     print(\"  Approx:\", num_iters, \"iterations in\",  timeit.default_timer() - start1, \"sec.:\", z_enc.get_plain_text()[:print_terms])\n",
    "#     print_diff(x.log(), z_enc)\n",
    "with cfg.temp_override({\"functions.log_method\": 'haar'}):\n",
    "    start1 = timeit.default_timer()\n",
    "    for _ in range(num_iters):\n",
    "        z_enc = x_enc.log()  # Private\n",
    "    print(\"  Haar  :\", num_iters, \"iterations in\",  timeit.default_timer() - start1, \"sec.:\", z_enc.get_plain_text()[:print_terms])\n",
    "    print_diff(x.log(), z_enc)\n",
    "with cfg.temp_override({\"functions.log_method\": 'bior'}):\n",
    "    start1 = timeit.default_timer()\n",
    "    for _ in range(num_iters):\n",
    "        z_enc = x_enc.log()  # Private\n",
    "    print(\"  Bior  :\", num_iters, \"iterations in\",  timeit.default_timer() - start1, \"sec.:\", z_enc.get_plain_text()[:print_terms])\n",
    "    print_diff(x.log(), z_enc)"
   ]
  },
  {
   "cell_type": "code",
   "execution_count": 3,
   "metadata": {},
   "outputs": [
    {
     "name": "stdout",
     "output_type": "stream",
     "text": [
      "Rank is:  0\n",
      "\n",
      "Logarithm (LUT faster):\n",
      "  x : tensor([1.0000e-02, 2.0000e-02, 3.0000e-02,  ..., 6.3870e+01, 6.3880e+01,\n",
      "        6.3890e+01])\n",
      "  Exact : tensor([-4.6052, -3.9120, -3.5066,  ...,  4.1568,  4.1570,  4.1572])\n",
      "  Approx: 1 iterations in 0.20064145600190386 sec.: tensor([-12.1335])\n",
      "TAE: 2.458238e+03, MAE: 3.847610e-01, MRE: 1.541322e-01, MAX: 8.458440e+00, ARGMAX: 5\n",
      "  Haar  : 1 iterations in 0.07797189900156809 sec.: tensor([-2.3859])\n",
      "TAE: 1.166436e+02, MAE: 1.825694e-02, MRE: 2.680442e-02, MAX: 6.542790e+00, ARGMAX: 6386\n",
      "  Bior  : 1 iterations in 0.0802487580003799 sec.: tensor([-7.7378])\n",
      "TAE: 1.967467e+02, MAE: 3.079461e-02, MRE: 1.104783e-02, MAX: 1.796522e+01, ARGMAX: 6380\n"
     ]
    },
    {
     "data": {
      "text/plain": [
       "[None]"
      ]
     },
     "execution_count": 3,
     "metadata": {},
     "output_type": "execute_result"
    }
   ],
   "source": [
    "import curl.mpc as mpc\n",
    "\n",
    "\n",
    "@mpc.run_multiprocess(world_size=1)\n",
    "def test_log():\n",
    "    rank = comm.get().get_rank()\n",
    "    print(\"Rank is: \", rank)\n",
    "    # x = torch.arange(5, 15, 1)\n",
    "    x = torch.arange(0.01, 63.9, 0.01)\n",
    "    x_enc = curl.cryptensor(x)\n",
    "    print(\"\\nLogarithm (LUT faster):\")\n",
    "    print(\"  x :\", x) if rank == 0 else None\n",
    "    print(\"  Exact :\", x.log()) if rank == 0 else None\n",
    "    with cfg.temp_override({\"functions.log_method\": 'iter'}):\n",
    "        start1 = timeit.default_timer()\n",
    "        for _ in range(num_iters):\n",
    "            z_enc = x_enc.log()  # Private\n",
    "        # curl.print(\"Out NR tensor: \", z_enc.get_plain_text()) \n",
    "        # if rank == 0:\n",
    "        print(\"  Approx:\", num_iters, \"iterations in\",  timeit.default_timer() - start1, \"sec.:\", z_enc.get_plain_text()[:print_terms])\n",
    "        print_diff_numb(x.log(), z_enc)\n",
    "    with cfg.temp_override({\"functions.log_method\": 'haar'}):\n",
    "        start1 = timeit.default_timer()\n",
    "        for _ in range(num_iters):\n",
    "            z_enc = x_enc.log()  # Private\n",
    "        # curl.print(\"Out haar tensor: \", z_enc.get_plain_text())\n",
    "        # if rank == 0:\n",
    "        print(\"  Haar  :\", num_iters, \"iterations in\",  timeit.default_timer() - start1, \"sec.:\", z_enc.get_plain_text()[:print_terms])\n",
    "        print_diff_numb(x.log(), z_enc)\n",
    "    with cfg.temp_override({\"functions.log_method\": 'bior'}):\n",
    "        start1 = timeit.default_timer()\n",
    "        for _ in range(num_iters):\n",
    "            z_enc = x_enc.log()  # Private\n",
    "        # curl.print(\"Out bior tensor: \", z_enc.get_plain_text())\n",
    "        # if rank == 0:\n",
    "        print(\"  Bior  :\", num_iters, \"iterations in\",  timeit.default_timer() - start1, \"sec.:\", z_enc.get_plain_text()[:print_terms])\n",
    "        print_diff_numb(x.log(), z_enc)\n",
    "\n",
    "test_log()"
   ]
  },
  {
   "cell_type": "markdown",
   "metadata": {},
   "source": [
    "## Sqrt (checked)"
   ]
  },
  {
   "cell_type": "markdown",
   "metadata": {},
   "source": [
    "Conclusions:\n",
    "- Sqrt does not perform well for numbers in [0,1] when compared to CrypTen's approximaton\n",
    "- CrypTen has huge error for square root with world size > 2\n",
    "__________________________________________________________________________________________\n",
    "LUT 7\n",
    "\n",
    "x = torch.arange(start=0.1, end=64, step=0.1)\n",
    "\n",
    "- World size 1:\n",
    "  Exact : \n",
    "TAE: 8.912110e-01, MAE: 1.394696e-03, MRE: 3.674109e-04, MAX: 8.734703e-03, ARGMAX: 86\n",
    "  Bior  \n",
    "TAE: 4.200375e-01, MAE: 6.573357e-04, MRE: 1.302702e-03, MAX: 1.001023e-01, ARGMAX: 0\n",
    "\n",
    "- World size 2: Huge error for square root with more elements\n",
    "  Exact : \n",
    "TAE: 1.183356e+10, MAE: 1.851887e+07, MRE: 3.312523e+06, MAX: 3.880408e+09, ARGMAX: 311 \n",
    "  Bior  \n",
    "TAE: 1.688408e+01, MAE: 2.642265e-02, MRE: 4.870367e-03, MAX: 8.172091e+00, ARGMAX: 637\n",
    "\n",
    "\n",
    "x = torch.arange(start=0.01, end=64, step=0.01)\n",
    "\n",
    "- World size 1:\n",
    "  Exact : \n",
    "TAE: 9.005793e+00, MAE: 1.407375e-03, MRE: 5.083816e-04, MAX: 3.884277e-02, ARGMAX: 0\n",
    "  Bior   : \n",
    "TAE: 4.248310e+00, MAE: 6.639021e-04, MRE: 1.442265e-03, MAX: 1.046040e-01, ARGMAX: 13\n",
    "\n",
    "- World size 2:\n",
    " Exact : \n",
    "TAE: 8.076945e+10, MAE: 1.262220e+07, MRE: 2.258828e+06, MAX: 2.930533e+09, ARGMAX: 3151\n",
    "  Bior   :  \n",
    "TAE: 2.274174e+02, MAE: 3.553953e-02, MRE: 6.462289e-03, MAX: 8.490364e+00, ARGMAX: 6354\n",
    "\n",
    "__________________________________________________________________________________________\n",
    "LUT 6\n",
    "\n",
    "x = torch.arange(start=0.1, end=64, step=0.1)\n",
    "\n",
    "- World size 1\n",
    "  Exact : \n",
    "TAE: 8.867714e+00, MAE: 1.387749e-03, MRE: 3.624862e-04, MAX: 8.783340e-03, ARGMAX: 852\n",
    "  Bior  : \n",
    "TAE: 1.153096e+01, MAE: 1.804533e-03, MRE: 2.602629e-03, MAX: 1.489317e-01, ARGMAX: 18\n",
    "- World size 2:\n",
    "\n",
    "  Exact : \n",
    "TAE: 7.545336e+09, MAE: 1.180804e+07, MRE: 2.115324e+06, MAX: 3.516581e+09, ARGMAX: 308\n",
    "   Bior   :  \n",
    "TAE: 4.279654e+01, MAE: 6.697424e-02, MRE: 1.203176e-02, MAX: 8.326508e+00, ARGMAX: 634"
   ]
  },
  {
   "cell_type": "code",
   "execution_count": 9,
   "metadata": {},
   "outputs": [
    {
     "name": "stdout",
     "output_type": "stream",
     "text": [
      "torch.Size([629])\n",
      "\n",
      "Square Root: (LUT faster)\n",
      "  Exact : tensor([0.3162])\n",
      "  Haar   : 1 iterations in 0.010778127998491982 sec.: tensor([0.6667])\n",
      "TAE: 3.797759e+01, MAE: 6.037773e-02, MRE: 2.490947e-02, MAX: 6.712258e-01, ARGMAX: 2\n",
      "  Bior   : 1 iterations in 0.029680662002647296 sec.: tensor([0.3086])\n",
      "TAE: 4.031780e-02, MAE: 6.409825e-05, MRE: 1.055424e-04, MAX: 1.128250e-02, ARGMAX: 1\n"
     ]
    },
    {
     "data": {
      "image/png": "[encoded data removed]",
      "text/plain": [
       "<Figure size 640x480 with 1 Axes>"
      ]
     },
     "metadata": {},
     "output_type": "display_data"
    }
   ],
   "source": [
    "# x = torch.arange(1.0, 64, 0.01)\n",
    "x = torch.arange(start=0.01, end=64, step=0.01)\n",
    "x = torch.arange(start=0.1, end=63, step=0.1)\n",
    "print(x.size())\n",
    "x_enc = curl.cryptensor(x)\n",
    "\n",
    "print(\"\\nSquare Root: (LUT faster)\")\n",
    "print(\"  Exact :\", x.sqrt()[:print_terms])\n",
    "# with cfg.temp_override({\"functions.sqrt_method\": 'NR', \"functions.inv_sqrt_method\": 'NR'}):\n",
    "#     start1 = timeit.default_timer()\n",
    "#     for _ in range(num_iters):\n",
    "#         z_enc = x_enc.sqrt()  # Private\n",
    "#     print(\"  Approx:\", num_iters, \"iterations in\",  timeit.default_timer() - start1, \"sec.:\", z_enc.get_plain_text()[:print_terms])\n",
    "#     print_diff(x.sqrt(), z_enc)\n",
    "with cfg.temp_override({\"functions.sqrt_method\": 'haar', \"functions.inv_sqrt_method\": 'haar'}):\n",
    "    start1 = timeit.default_timer()\n",
    "    for _ in range(num_iters):\n",
    "        z_enc = x_enc.sqrt()  # Private\n",
    "    print(\"  Haar   :\", num_iters, \"iterations in\",  timeit.default_timer() - start1, \"sec.:\", z_enc.get_plain_text()[:print_terms])\n",
    "    # print(\"  Diff:\", (x.sqrt()-z_enc.get_plain_text()).abs().mean(), (x.sqrt()-z_enc.get_plain_text()).abs().max())\n",
    "    print_diff(x.sqrt(), z_enc)\n",
    "with cfg.temp_override({\"functions.sqrt_method\": 'bior', \"functions.inv_sqrt_method\": 'bior'}):\n",
    "    start1 = timeit.default_timer()\n",
    "    for _ in range(num_iters):\n",
    "        z_enc = x_enc.sqrt()  # Private\n",
    "    print(\"  Bior   :\", num_iters, \"iterations in\",  timeit.default_timer() - start1, \"sec.:\", z_enc.get_plain_text()[:print_terms])\n",
    "    # print(\"  Diff:\", (x.sqrt()-z_enc.get_plain_text()).abs().mean(), (x.sqrt()-z_enc.get_plain_text()).abs().max())\n",
    "    print_diff(x.sqrt(), z_enc)"
   ]
  },
  {
   "cell_type": "code",
   "execution_count": null,
   "metadata": {},
   "outputs": [],
   "source": [
    "import curl.mpc as mpc\n",
    "\n",
    "\n",
    "@mpc.run_multiprocess(world_size=1)\n",
    "def test_sqrt():\n",
    "    # x = torch.arange(1.0, 64, 0.01)\n",
    "    x = torch.arange(start=0.1, end=64, step=0.1)\n",
    "    # x = torch.arange(start=0.1, end=64, step=0.1)\n",
    "    print(x.size())\n",
    "    x_enc = curl.cryptensor(x)\n",
    "\n",
    "    print(\"\\nSquare Root: (LUT faster)\")\n",
    "    print(\"  Exact :\", x.sqrt()[:print_terms])\n",
    "    with cfg.temp_override({\"functions.sqrt_method\": 'NR', \"functions.inv_sqrt_method\": 'NR'}):\n",
    "        start1 = timeit.default_timer()\n",
    "        for _ in range(num_iters):\n",
    "            z_enc = x_enc.sqrt()  # Private\n",
    "        print(\"  Approx:\", num_iters, \"iterations in\",  timeit.default_timer() - start1, \"sec.:\", z_enc.get_plain_text()[:print_terms])\n",
    "        print_diff_numb(x.sqrt(), z_enc)\n",
    "    with cfg.temp_override({\"functions.sqrt_method\": 'haar', \"functions.inv_sqrt_method\": 'haar'}):\n",
    "        start1 = timeit.default_timer()\n",
    "        for _ in range(num_iters):\n",
    "            z_enc = x_enc.sqrt()  # Private\n",
    "        print(\"  Haar   :\", num_iters, \"iterations in\",  timeit.default_timer() - start1, \"sec.:\", z_enc.get_plain_text()[:print_terms])\n",
    "        # print(\"  Diff:\", (x.sqrt()-z_enc.get_plain_text()).abs().mean(), (x.sqrt()-z_enc.get_plain_text()).abs().max())\n",
    "        print_diff_numb(x.sqrt(), z_enc)\n",
    "    with cfg.temp_override({\"functions.sqrt_method\": 'bior', \"functions.inv_sqrt_method\": 'bior'}):\n",
    "        start1 = timeit.default_timer()\n",
    "        for _ in range(num_iters):\n",
    "            z_enc = x_enc.sqrt()  # Private\n",
    "        print(\"  Bior   :\", num_iters, \"iterations in\",  timeit.default_timer() - start1, \"sec.:\", z_enc.get_plain_text()[:print_terms])\n",
    "        # print(\"  Diff:\", (x.sqrt()-z_enc.get_plain_text()).abs().mean(), (x.sqrt()-z_enc.get_plain_text()).abs().max())\n",
    "        print_diff_numb(x.sqrt(), z_enc)\n",
    "    with cfg.temp_override({\"functions.sqrt_method\": 'bior1', \"functions.inv_sqrt_method\": 'bior1'}):\n",
    "        start1 = timeit.default_timer()\n",
    "        for _ in range(num_iters):\n",
    "            z_enc = x_enc.sqrt()  # Private\n",
    "        print(\"  Bior1   :\", num_iters, \"iterations in\",  timeit.default_timer() - start1, \"sec.:\", z_enc.get_plain_text()[:print_terms])\n",
    "        # print(\"  Diff:\", (x.sqrt()-z_enc.get_plain_text()).abs().mean(), (x.sqrt()-z_enc.get_plain_text()).abs().max())\n",
    "        print_diff_numb(x.sqrt(), z_enc)\n",
    "\n",
    "test_sqrt()"
   ]
  },
  {
   "cell_type": "markdown",
   "metadata": {},
   "source": [
    "## Inv sqrt (checked - Haar)"
   ]
  },
  {
   "cell_type": "markdown",
   "metadata": {},
   "source": [
    "Conclusion:\n",
    "- Haar always performs better when the [0,1] is included.\n",
    "- Sqrt does not perform well for numbers in [0,1] when compared to CrypTen's approximation\n",
    "- CrypTen explodes for world size 2\n",
    "\n",
    "  Exact :  \n",
    "TAE: 3.567988e+09, MAE: 5.583706e+06, MRE: 3.113768e+07, MAX: 1.547179e+09, ARGMAX: 308\n",
    "  \n",
    "  Haar   :  \n",
    "TAE: 3.635196e+00, MAE: 5.688883e-03, MRE: 6.517332e-03, MAX: 8.149562e-01, ARGMAX: 0\n",
    "  \n",
    "  Bior   : \n",
    "TAE: 1.249464e+02, MAE: 1.955343e-01, MRE: 7.823918e-02, MAX: 7.181410e+01, ARGMAX: 0"
   ]
  },
  {
   "cell_type": "code",
   "execution_count": 10,
   "metadata": {},
   "outputs": [
    {
     "name": "stdout",
     "output_type": "stream",
     "text": [
      "torch.Size([50])\n",
      "  Approx: 1 iterations in 0.11040536699874792 sec.: tensor([6.0508])\n",
      "  Haar   : 1 iterations in 0.08138432299892884 sec.: tensor([9.8745])\n"
     ]
    },
    {
     "data": {
      "image/png": "[encoded data removed]",
      "text/plain": [
       "<Figure size 640x480 with 1 Axes>"
      ]
     },
     "metadata": {},
     "output_type": "display_data"
    }
   ],
   "source": [
    "x = torch.arange(0.01, 5, 0.1)\n",
    "print(x.size())\n",
    "x_enc = curl.cryptensor(x)\n",
    "\n",
    "# print(\"\\nInverse Square Root: (LUT faster)\")\n",
    "# print(\"  Exact :\", x.sqrt().reciprocal()[:print_terms])\n",
    "with cfg.temp_override({\"functions.sqrt_method\": 'NR', \"functions.inv_sqrt_method\": 'NR'}):\n",
    "    start1 = timeit.default_timer()\n",
    "    for _ in range(num_iters):\n",
    "        z_enc = x_enc.inv_sqrt()  # Private\n",
    "    print(\"  Approx:\", num_iters, \"iterations in\",  timeit.default_timer() - start1, \"sec.:\", z_enc.get_plain_text()[:print_terms])\n",
    "    # print_diff(x.sqrt().reciprocal(), z_enc)\n",
    "    # plt.plot(z_enc.get_plain_text())\n",
    "    plt.plot(x.sqrt().reciprocal())\n",
    "with cfg.temp_override({\"functions.sqrt_method\": 'haar', \"functions.inv_sqrt_method\": 'tailored_haar'}):\n",
    "    start1 = timeit.default_timer()\n",
    "    for _ in range(num_iters):\n",
    "        z_enc = x_enc.inv_sqrt()  # Private\n",
    "    print(\"  Haar   :\", num_iters, \"iterations in\",  timeit.default_timer() - start1, \"sec.:\", z_enc.get_plain_text()[:print_terms])\n",
    "    # print(\"  Diff:\", (x.sqrt()-z_enc.get_plain_text()).abs().mean(), (x.sqrt()-z_enc.get_plain_text()).abs().max())\n",
    "    # print_diff(x.sqrt().reciprocal(), z_enc)\n",
    "    plt.plot(z_enc.get_plain_text())\n",
    "# with cfg.temp_override({\"functions.sqrt_method\": 'haar', \"functions.inv_sqrt_method\": 'haar'}):\n",
    "#     start1 = timeit.default_timer()\n",
    "#     for _ in range(num_iters):\n",
    "#         z_enc = x_enc.inv_sqrt()  # Private\n",
    "#     print(\"  Haar   :\", num_iters, \"iterations in\",  timeit.default_timer() - start1, \"sec.:\", z_enc.get_plain_text()[:print_terms])\n",
    "#     # print(\"  Diff:\", (x.sqrt()-z_enc.get_plain_text()).abs().mean(), (x.sqrt()-z_enc.get_plain_text()).abs().max())\n",
    "#     # print_diff(x.sqrt().reciprocal(), z_enc)\n",
    "    # plt.plot(z_enc.get_plain_text())\n",
    "# with cfg.temp_override({\"functions.sqrt_method\": 'bior', \"functions.inv_sqrt_method\": 'bior'}):\n",
    "#     start1 = timeit.default_timer()\n",
    "#     for _ in range(num_iters):\n",
    "#         z_enc = x_enc.inv_sqrt()  # Private\n",
    "#     print(\"  Bior   :\", num_iters, \"iterations in\",  timeit.default_timer() - start1, \"sec.:\", z_enc.get_plain_text()[:print_terms])\n",
    "#     # print(\"  Diff:\", (x.sqrt()-z_enc.get_plain_text()).abs().mean(), (x.sqrt()-z_enc.get_plain_text()).abs().max())\n",
    "#     print_diff(x.sqrt().reciprocal(), z_enc)"
   ]
  },
  {
   "cell_type": "code",
   "execution_count": 5,
   "metadata": {},
   "outputs": [
    {
     "name": "stdout",
     "output_type": "stream",
     "text": [
      "torch.Size([99])\n",
      "  Approx: 1 iterations in 0.08756531000108225 sec.: tensor([3.1473])\n",
      "  Haar   : 1 iterations in 0.05823138699634001 sec.: tensor([3.1606])\n"
     ]
    },
    {
     "data": {
      "image/png": "[encoded data removed]",
      "text/plain": [
       "<Figure size 640x480 with 1 Axes>"
      ]
     },
     "metadata": {},
     "output_type": "display_data"
    }
   ],
   "source": [
    "x = torch.arange(0.1, 10, 0.1)\n",
    "print(x.size())\n",
    "x_enc = curl.cryptensor(x)\n",
    "\n",
    "# print(\"\\nInverse Square Root: (LUT faster)\")\n",
    "# print(\"  Exact :\", x.sqrt().reciprocal()[:print_terms])\n",
    "with cfg.temp_override({\"functions.sqrt_method\": 'NR', \"functions.inv_sqrt_method\": 'NR'}):\n",
    "    start1 = timeit.default_timer()\n",
    "    for _ in range(num_iters):\n",
    "        z_enc = x_enc.inv_sqrt()  # Private\n",
    "    print(\"  Approx:\", num_iters, \"iterations in\",  timeit.default_timer() - start1, \"sec.:\", z_enc.get_plain_text()[:print_terms])\n",
    "    # print_diff(x.sqrt().reciprocal(), z_enc)\n",
    "    plt.plot(z_enc.get_plain_text())\n",
    "# with cfg.temp_override({\"functions.sqrt_method\": 'haar', \"functions.inv_sqrt_method\": 'tailored_haar'}):\n",
    "#     start1 = timeit.default_timer()\n",
    "#     for _ in range(num_iters):\n",
    "#         z_enc = x_enc.inv_sqrt()  # Private\n",
    "#     print(\"  Haar   :\", num_iters, \"iterations in\",  timeit.default_timer() - start1, \"sec.:\", z_enc.get_plain_text()[:print_terms])\n",
    "#     # print(\"  Diff:\", (x.sqrt()-z_enc.get_plain_text()).abs().mean(), (x.sqrt()-z_enc.get_plain_text()).abs().max())\n",
    "#     # print_diff(x.sqrt().reciprocal(), z_enc)\n",
    "#     plt.plot(z_enc.get_plain_text())\n",
    "with cfg.temp_override({\"functions.sqrt_method\": 'haar', \"functions.inv_sqrt_method\": 'haar'}):\n",
    "    start1 = timeit.default_timer()\n",
    "    for _ in range(num_iters):\n",
    "        z_enc = x_enc.inv_sqrt()  # Private\n",
    "    print(\"  Haar   :\", num_iters, \"iterations in\",  timeit.default_timer() - start1, \"sec.:\", z_enc.get_plain_text()[:print_terms])\n",
    "    # print(\"  Diff:\", (x.sqrt()-z_enc.get_plain_text()).abs().mean(), (x.sqrt()-z_enc.get_plain_text()).abs().max())\n",
    "    # print_diff(x.sqrt().reciprocal(), z_enc)\n",
    "    plt.plot(z_enc.get_plain_text())\n",
    "# with cfg.temp_override({\"functions.sqrt_method\": 'bior', \"functions.inv_sqrt_method\": 'bior'}):\n",
    "#     start1 = timeit.default_timer()\n",
    "#     for _ in range(num_iters):\n",
    "#         z_enc = x_enc.inv_sqrt()  # Private\n",
    "#     print(\"  Bior   :\", num_iters, \"iterations in\",  timeit.default_timer() - start1, \"sec.:\", z_enc.get_plain_text()[:print_terms])\n",
    "#     # print(\"  Diff:\", (x.sqrt()-z_enc.get_plain_text()).abs().mean(), (x.sqrt()-z_enc.get_plain_text()).abs().max())\n",
    "#     print_diff(x.sqrt().reciprocal(), z_enc)"
   ]
  },
  {
   "cell_type": "code",
   "execution_count": null,
   "metadata": {},
   "outputs": [],
   "source": [
    "import curl.mpc as mpc\n",
    "\n",
    "\n",
    "@mpc.run_multiprocess(world_size=2)\n",
    "def test_inv_sqrt():\n",
    "    x = torch.arange(0.1, 64, 0.1)\n",
    "    print(x.size())\n",
    "    x_enc = curl.cryptensor(x)\n",
    "\n",
    "    print(\"\\nInverse Square Root: (LUT faster)\")\n",
    "    print(\"  Exact :\", x.sqrt().reciprocal()[:print_terms])\n",
    "    with cfg.temp_override({\"functions.sqrt_method\": 'NR', \"functions.inv_sqrt_method\": 'NR'}):\n",
    "        start1 = timeit.default_timer()\n",
    "        for _ in range(num_iters):\n",
    "            z_enc = x_enc.inv_sqrt()  # Private\n",
    "        print(\"  Approx:\", num_iters, \"iterations in\",  timeit.default_timer() - start1, \"sec.:\", z_enc.get_plain_text()[:print_terms])\n",
    "        print_diff_numb(x.sqrt().reciprocal(), z_enc)\n",
    "    with cfg.temp_override({\"functions.sqrt_method\": 'haar', \"functions.inv_sqrt_method\": 'haar'}):\n",
    "        start1 = timeit.default_timer()\n",
    "        for _ in range(num_iters):\n",
    "            z_enc = x_enc.inv_sqrt()  # Private\n",
    "        print(\"  Haar   :\", num_iters, \"iterations in\",  timeit.default_timer() - start1, \"sec.:\", z_enc.get_plain_text()[:print_terms])\n",
    "        # print(\"  Diff:\", (x.sqrt()-z_enc.get_plain_text()).abs().mean(), (x.sqrt()-z_enc.get_plain_text()).abs().max())\n",
    "        print_diff_numb(x.sqrt().reciprocal(), z_enc)\n",
    "    with cfg.temp_override({\"functions.sqrt_method\": 'bior', \"functions.inv_sqrt_method\": 'bior'}):\n",
    "        start1 = timeit.default_timer()\n",
    "        for _ in range(num_iters):\n",
    "            z_enc = x_enc.inv_sqrt()  # Private\n",
    "        print(\"  Bior   :\", num_iters, \"iterations in\",  timeit.default_timer() - start1, \"sec.:\", z_enc.get_plain_text()[:print_terms])\n",
    "        # print(\"  Diff:\", (x.sqrt()-z_enc.get_plain_text()).abs().mean(), (x.sqrt()-z_enc.get_plain_text()).abs().max())\n",
    "        print_diff_numb(x.sqrt().reciprocal(), z_enc)\n",
    "    with cfg.temp_override({\"functions.sqrt_method\": 'bior1', \"functions.inv_sqrt_method\": 'bior1'}):\n",
    "        start1 = timeit.default_timer()\n",
    "        for _ in range(num_iters):\n",
    "            z_enc = x_enc.inv_sqrt()  # Private\n",
    "        print(\"  Bior1   :\", num_iters, \"iterations in\",  timeit.default_timer() - start1, \"sec.:\", z_enc.get_plain_text()[:print_terms])\n",
    "        # print(\"  Diff:\", (x.sqrt()-z_enc.get_plain_text()).abs().mean(), (x.sqrt()-z_enc.get_plain_text()).abs().max())\n",
    "        print_diff_numb(x.sqrt().reciprocal(), z_enc)\n",
    "\n",
    "test_inv_sqrt()"
   ]
  },
  {
   "cell_type": "markdown",
   "metadata": {},
   "source": [
    "## Sin (checked - Bior)"
   ]
  },
  {
   "cell_type": "markdown",
   "metadata": {},
   "source": [
    "Conclusion:\n",
    "- Bior is always supperior\n",
    "- Interesting to comment: crypten's approximation gets worse for larger elements (with a max error for x=64 of ~5)"
   ]
  },
  {
   "cell_type": "code",
   "execution_count": null,
   "metadata": {},
   "outputs": [],
   "source": [
    "x = torch.arange(0.1, 64, 0.1)\n",
    "x_enc = curl.cryptensor(x)\n",
    "print(\"\\nLogarithm (LUT faster):\")\n",
    "# print(\"  x :\", x) if rank == 0 else None\n",
    "# print(\"  Exact :\", x.sin()) if rank == 0 else None\n",
    "with cfg.temp_override({\"functions.trigonometry_method\": 'NR'}):\n",
    "    start1 = timeit.default_timer()\n",
    "    for _ in range(num_iters):\n",
    "        z_enc = x_enc.sin()  # Private\n",
    "    # curl.print(\"Out NR tensor: \", z_enc.get_plain_text())\n",
    "    print(\"  Approx:\", num_iters, \"iterations in\",  timeit.default_timer() - start1, \"sec.:\", z_enc.get_plain_text()[:print_terms])\n",
    "    print_diff(x.sin(), z_enc)\n",
    "with cfg.temp_override({\"functions.trigonometry_method\": 'haar'}):\n",
    "    start1 = timeit.default_timer()\n",
    "    for _ in range(num_iters):\n",
    "        z_enc = x_enc.sin()  # Private\n",
    "    # curl.print(\"Out haar tensor: \", z_enc.get_plain_text())\n",
    "    print(\"  Haar  :\", num_iters, \"iterations in\",  timeit.default_timer() - start1, \"sec.:\", z_enc.get_plain_text()[:print_terms])\n",
    "    print_diff(x.sin(), z_enc)\n",
    "with cfg.temp_override({\"functions.trigonometry_method\": 'bior'}):\n",
    "    start1 = timeit.default_timer()\n",
    "    for _ in range(num_iters):\n",
    "        z_enc = x_enc.sin()  # Private\n",
    "    # curl.print(\"Out bior tensor: \", z_enc.get_plain_text())\n",
    "    print(\"  Bior  :\", num_iters, \"iterations in\",  timeit.default_timer() - start1, \"sec.:\", z_enc.get_plain_text()[:print_terms])\n",
    "    print_diff(x.sin(), z_enc)"
   ]
  },
  {
   "cell_type": "code",
   "execution_count": null,
   "metadata": {},
   "outputs": [],
   "source": [
    "import curl.mpc as mpc\n",
    "# x = torch.arange(0, 64, 0.001)\n",
    "# x = torch.rand((2, 2))\n",
    "# x = torch.arange(1, 10, 1)\n",
    "# print(x.size())\n",
    "# x_enc = curl.cryptensor(x)\n",
    "# print(\"Ref tensor: \", x.sin())\n",
    "\n",
    "@mpc.run_multiprocess(world_size=2)\n",
    "def test_sin():\n",
    "    rank = 0\n",
    "    x = torch.arange(0.1, 64, 0.1)\n",
    "    x_enc = curl.cryptensor(x)\n",
    "    print(\"\\nLogarithm (LUT faster):\")\n",
    "    # print(\"  x :\", x) if rank == 0 else None\n",
    "    # print(\"  Exact :\", x.sin()) if rank == 0 else None\n",
    "    with cfg.temp_override({\"functions.trigonometry_method\": 'NR'}):\n",
    "        start1 = timeit.default_timer()\n",
    "        for _ in range(num_iters):\n",
    "            z_enc = x_enc.sin()  # Private\n",
    "        # curl.print(\"Out NR tensor: \", z_enc.get_plain_text())\n",
    "        print(\"  Approx:\", num_iters, \"iterations in\",  timeit.default_timer() - start1, \"sec.:\", z_enc.get_plain_text()[:print_terms])\n",
    "        print_diff_numb(x.sin(), z_enc)\n",
    "    with cfg.temp_override({\"functions.trigonometry_method\": 'haar'}):\n",
    "        start1 = timeit.default_timer()\n",
    "        for _ in range(num_iters):\n",
    "            z_enc = x_enc.sin()  # Private\n",
    "        # curl.print(\"Out haar tensor: \", z_enc.get_plain_text())\n",
    "        print(\"  Haar  :\", num_iters, \"iterations in\",  timeit.default_timer() - start1, \"sec.:\", z_enc.get_plain_text()[:print_terms])\n",
    "        print_diff_numb(x.sin(), z_enc)\n",
    "    with cfg.temp_override({\"functions.trigonometry_method\": 'bior'}):\n",
    "        start1 = timeit.default_timer()\n",
    "        for _ in range(num_iters):\n",
    "            z_enc = x_enc.sin()  # Private\n",
    "        # curl.print(\"Out bior tensor: \", z_enc.get_plain_text())\n",
    "        print(\"  Bior  :\", num_iters, \"iterations in\",  timeit.default_timer() - start1, \"sec.:\", z_enc.get_plain_text()[:print_terms])\n",
    "        print_diff_numb(x.sin(), z_enc)\n",
    "\n",
    "test_sin()"
   ]
  },
  {
   "cell_type": "markdown",
   "metadata": {},
   "source": [
    "## Cos (checked - Bior)"
   ]
  },
  {
   "cell_type": "markdown",
   "metadata": {},
   "source": [
    "Conclusion:\n",
    "- Same as Sin"
   ]
  },
  {
   "cell_type": "code",
   "execution_count": null,
   "metadata": {},
   "outputs": [],
   "source": [
    "print(\"\\nCos:\")\n",
    "print(\"  Exact :\", x.cos()[:print_terms])\n",
    "with cfg.temp_override({\"functions.trigonometry_method\": 'NR'}):\n",
    "    start1 = timeit.default_timer()\n",
    "    for _ in range(num_iters):\n",
    "        z_enc = x_enc.cos()  # Private\n",
    "    print(\"  Approx:\", num_iters, \"iterations in\",  timeit.default_timer() - start1, \"sec.:\", z_enc.get_plain_text()[:print_terms])\n",
    "    print_diff(x.cos(), z_enc)\n",
    "with cfg.temp_override({\"functions.trigonometry_method\": 'haar'}):\n",
    "    start1 = timeit.default_timer()\n",
    "    for _ in range(num_iters):\n",
    "        z_enc = x_enc.cos()  # Private\n",
    "    print(\"  Haar  :\", num_iters, \"iterations in\",  timeit.default_timer() - start1, \"sec.:\", z_enc.get_plain_text()[:print_terms])\n",
    "    print_diff(x.cos(), z_enc)\n",
    "with cfg.temp_override({\"functions.trigonometry_method\": 'bior'}):\n",
    "    start1 = timeit.default_timer()\n",
    "    for _ in range(num_iters):\n",
    "        z_enc = x_enc.cos()  # Private\n",
    "    print(\"  Bior  :\", num_iters, \"iterations in\",  timeit.default_timer() - start1, \"sec.:\", z_enc.get_plain_text()[:print_terms])\n",
    "    print_diff(x.cos(), z_enc)"
   ]
  },
  {
   "cell_type": "code",
   "execution_count": null,
   "metadata": {},
   "outputs": [],
   "source": [
    "import curl.mpc as mpc\n",
    "\n",
    "@mpc.run_multiprocess(world_size=2)\n",
    "def test_cos():\n",
    "    rank = 0\n",
    "    x = torch.arange(0.1, 64, 0.1)\n",
    "    x_enc = curl.cryptensor(x)\n",
    "    print(\"\\nLogarithm (LUT faster):\")\n",
    "    # print(\"  x :\", x) if rank == 0 else None\n",
    "    # print(\"  Exact :\", x.cos()) if rank == 0 else None\n",
    "    with cfg.temp_override({\"functions.trigonometry_method\": 'NR'}):\n",
    "        start1 = timeit.default_timer()\n",
    "        for _ in range(num_iters):\n",
    "            z_enc = x_enc.cos()  # Private\n",
    "        # curl.print(\"Out NR tensor: \", z_enc.get_plain_text())\n",
    "        print(\"  Approx:\", num_iters, \"iterations in\",  timeit.default_timer() - start1, \"sec.:\", z_enc.get_plain_text()[:print_terms])\n",
    "        print_diff_numb(x.cos(), z_enc)\n",
    "    with cfg.temp_override({\"functions.trigonometry_method\": 'haar'}):\n",
    "        start1 = timeit.default_timer()\n",
    "        for _ in range(num_iters):\n",
    "            z_enc = x_enc.cos()  # Private\n",
    "        # curl.print(\"Out haar tensor: \", z_enc.get_plain_text())\n",
    "        print(\"  Haar  :\", num_iters, \"iterations in\",  timeit.default_timer() - start1, \"sec.:\", z_enc.get_plain_text()[:print_terms])\n",
    "        print_diff_numb(x.cos(), z_enc)\n",
    "    with cfg.temp_override({\"functions.trigonometry_method\": 'bior'}):\n",
    "        start1 = timeit.default_timer()\n",
    "        for _ in range(num_iters):\n",
    "            z_enc = x_enc.cos()  # Private\n",
    "        # curl.print(\"Out bior tensor: \", z_enc.get_plain_text())\n",
    "        print(\"  Bior  :\", num_iters, \"iterations in\",  timeit.default_timer() - start1, \"sec.:\", z_enc.get_plain_text()[:print_terms])\n",
    "        print_diff_numb(x.cos(), z_enc)\n",
    "\n",
    "test_cos()"
   ]
  },
  {
   "cell_type": "markdown",
   "metadata": {},
   "source": [
    "## Sigmoid (checked - Bior)"
   ]
  },
  {
   "cell_type": "markdown",
   "metadata": {},
   "source": [
    "Conclusion:\n",
    "- Bior is superior to Haar\n",
    "- For 1 party it is superior to crypten\n",
    "- For 2 parties wins against crypten only sometimes (the haar always loose)"
   ]
  },
  {
   "cell_type": "code",
   "execution_count": null,
   "metadata": {},
   "outputs": [],
   "source": [
    "x = torch.arange(-64, 64, 0.1)\n",
    "x_enc = curl.cryptensor(x)\n",
    "\n",
    "print(\"\\nSigmoid:\")\n",
    "print(\"  Exact :\", x.sigmoid()[:print_terms])\n",
    "with cfg.temp_override({\"functions.sigmoid_tanh_method\": 'reciprocal', \"functions.reciprocal_method\": 'NR', \"functions.exp_method\": 'limit'}):\n",
    "    start1 = timeit.default_timer()\n",
    "    for _ in range(num_iters):\n",
    "        z_enc = x_enc.sigmoid()  # Private\n",
    "    print(\"  Approx:\", num_iters, \"iterations in\",  timeit.default_timer() - start1, \"sec.:\", z_enc.get_plain_text()[:print_terms])\n",
    "    print_diff(x.sigmoid(), z_enc)\n",
    "with cfg.temp_override({\"functions.sigmoid_tanh_method\": 'haar'}):\n",
    "    start1 = timeit.default_timer()\n",
    "    for _ in range(num_iters):\n",
    "        z_enc = x_enc.sigmoid()  # Private\n",
    "    print(\"  Haar  :\", num_iters, \"iterations in\",  timeit.default_timer() - start1, \"sec.:\", z_enc.get_plain_text()[:print_terms])\n",
    "    print_diff(x.sigmoid(), z_enc)\n",
    "with cfg.temp_override({\"functions.sigmoid_tanh_method\": 'bior'}):\n",
    "    start1 = timeit.default_timer()\n",
    "    for _ in range(num_iters):\n",
    "        z_enc = x_enc.sigmoid()  # Private\n",
    "    print(\"  Bior  :\", num_iters, \"iterations in\",  timeit.default_timer() - start1, \"sec.:\", z_enc.get_plain_text()[:print_terms])\n",
    "    print_diff(x.sigmoid(), z_enc)"
   ]
  },
  {
   "cell_type": "code",
   "execution_count": null,
   "metadata": {},
   "outputs": [],
   "source": [
    "import curl.mpc as mpc\n",
    "\n",
    "\n",
    "@mpc.run_multiprocess(world_size=2)    \n",
    "def test_sig():\n",
    "    x = torch.arange(-64, 64, 0.1)\n",
    "    x_enc = curl.cryptensor(x)\n",
    "\n",
    "    print(\"\\nSigmoid:\")\n",
    "    print(\"  Exact :\", x.sigmoid()[:print_terms])\n",
    "    with cfg.temp_override({\"functions.sigmoid_tanh_method\": 'reciprocal', \"functions.reciprocal_method\": 'NR', \"functions.exp_method\": 'limit'}):\n",
    "        start1 = timeit.default_timer()\n",
    "        for _ in range(num_iters):\n",
    "            z_enc = x_enc.sigmoid()  # Private\n",
    "        print(\"  Approx:\", num_iters, \"iterations in\",  timeit.default_timer() - start1, \"sec.:\", z_enc.get_plain_text()[:print_terms])\n",
    "        print_diff_numb(x.sigmoid(), z_enc)\n",
    "    with cfg.temp_override({\"functions.sigmoid_tanh_method\": 'haar'}):\n",
    "        start1 = timeit.default_timer()\n",
    "        for _ in range(num_iters):\n",
    "            z_enc = x_enc.sigmoid()  # Private\n",
    "        print(\"  Haar  :\", num_iters, \"iterations in\",  timeit.default_timer() - start1, \"sec.:\", z_enc.get_plain_text()[:print_terms])\n",
    "        print_diff_numb(x.sigmoid(), z_enc)\n",
    "    with cfg.temp_override({\"functions.sigmoid_tanh_method\": 'bior'}):\n",
    "        start1 = timeit.default_timer()\n",
    "        for _ in range(num_iters):\n",
    "            z_enc = x_enc.sigmoid()  # Private\n",
    "        print(\"  Bior  :\", num_iters, \"iterations in\",  timeit.default_timer() - start1, \"sec.:\", z_enc.get_plain_text()[:print_terms])\n",
    "        print_diff_numb(x.sigmoid(), z_enc) \n",
    "\n",
    "test_sig()"
   ]
  },
  {
   "cell_type": "markdown",
   "metadata": {},
   "source": [
    "## Tanh (checked - Bior)"
   ]
  },
  {
   "cell_type": "markdown",
   "metadata": {},
   "source": [
    "Conclusion:\n",
    "- Bior is superior to Haar\n",
    "- For 1 party it is superior to crypten\n",
    "- For 2 parties, bior most of the times wins against crypten"
   ]
  },
  {
   "cell_type": "code",
   "execution_count": null,
   "metadata": {},
   "outputs": [],
   "source": [
    "x = torch.arange(-64, 64, 0.1)\n",
    "x_enc = curl.cryptensor(x)\n",
    "\n",
    "print(\"Tanh:\")\n",
    "print(\"  Exact :\", x.tanh()[:print_terms])\n",
    "with cfg.temp_override({\"functions.sigmoid_tanh_method\": 'reciprocal', \"functions.reciprocal_method\": 'NR', \"functions.exp_method\": 'limit'}):\n",
    "    start1 = timeit.default_timer()\n",
    "    for _ in range(num_iters):\n",
    "        z_enc = x_enc.tanh()  # Private\n",
    "    print(\"  Approx:\", num_iters, \"iterations in\",  timeit.default_timer() - start1, \"sec.:\", z_enc.get_plain_text()[:print_terms])\n",
    "    print_diff(x.tanh(), z_enc)\n",
    "with cfg.temp_override({\"functions.sigmoid_tanh_method\": 'haar'}):\n",
    "    start1 = timeit.default_timer()\n",
    "    for _ in range(num_iters):\n",
    "        z_enc = x_enc.tanh()  # Private\n",
    "    print(\"  Haar  :\", num_iters, \"iterations in\",  timeit.default_timer() - start1, \"sec.:\", z_enc.get_plain_text()[:print_terms])\n",
    "    print_diff(x.tanh(), z_enc)\n",
    "with cfg.temp_override({\"functions.sigmoid_tanh_method\": 'bior'}):\n",
    "    start1 = timeit.default_timer()\n",
    "    for _ in range(num_iters):\n",
    "        z_enc = x_enc.tanh()  # Private\n",
    "    print(\"  Bior  :\", num_iters, \"iterations in\",  timeit.default_timer() - start1, \"sec.:\", z_enc.get_plain_text()[:print_terms])\n",
    "    print_diff(x.tanh(), z_enc)"
   ]
  },
  {
   "cell_type": "code",
   "execution_count": null,
   "metadata": {},
   "outputs": [],
   "source": [
    "import curl.mpc as mpc\n",
    "\n",
    "\n",
    "@mpc.run_multiprocess(world_size=2)    \n",
    "def test_tanh():\n",
    "    x = torch.arange(-64, 64, 0.1)\n",
    "    x_enc = curl.cryptensor(x)\n",
    "\n",
    "    print(\"Tanh:\")\n",
    "    print(\"  Exact :\", x.tanh()[:print_terms])\n",
    "    with cfg.temp_override({\"functions.sigmoid_tanh_method\": 'reciprocal', \"functions.reciprocal_method\": 'NR', \"functions.exp_method\": 'limit'}):\n",
    "        start1 = timeit.default_timer()\n",
    "        for _ in range(num_iters):\n",
    "            z_enc = x_enc.tanh()  # Private\n",
    "        print(\"  Approx:\", num_iters, \"iterations in\",  timeit.default_timer() - start1, \"sec.:\", z_enc.get_plain_text()[:print_terms])\n",
    "        print_diff_numb(x.tanh(), z_enc)\n",
    "    with cfg.temp_override({\"functions.sigmoid_tanh_method\": 'haar'}):\n",
    "        start1 = timeit.default_timer()\n",
    "        for _ in range(num_iters):\n",
    "            z_enc = x_enc.tanh()  # Private\n",
    "        print(\"  Haar  :\", num_iters, \"iterations in\",  timeit.default_timer() - start1, \"sec.:\", z_enc.get_plain_text()[:print_terms])\n",
    "        print_diff_numb(x.tanh(), z_enc)\n",
    "    with cfg.temp_override({\"functions.sigmoid_tanh_method\": 'bior'}):\n",
    "        start1 = timeit.default_timer()\n",
    "        for _ in range(num_iters):\n",
    "            z_enc = x_enc.tanh()  # Private\n",
    "        print(\"  Bior  :\", num_iters, \"iterations in\",  timeit.default_timer() - start1, \"sec.:\", z_enc.get_plain_text()[:print_terms])\n",
    "        print_diff_numb(x.tanh(), z_enc)\n",
    "\n",
    "test_tanh()"
   ]
  },
  {
   "cell_type": "markdown",
   "metadata": {},
   "source": [
    "## Erf (checked - Bior)"
   ]
  },
  {
   "cell_type": "markdown",
   "metadata": {},
   "source": [
    "Checked"
   ]
  },
  {
   "cell_type": "code",
   "execution_count": null,
   "metadata": {},
   "outputs": [],
   "source": [
    "x = torch.arange(-64, 64, 0.1)\n",
    "x_enc = curl.cryptensor(x)\n",
    "\n",
    "print(\"Erf:\")\n",
    "print(\"  Exact :\", x.erf()[:print_terms])\n",
    "with cfg.temp_override({\"functions.erf_method\": 'Taylor'}):\n",
    "    start1 = timeit.default_timer()\n",
    "    for _ in range(num_iters):\n",
    "        z_enc = x_enc.erf()  # Private\n",
    "    print(\"  Approx:\", num_iters, \"iterations in\",  timeit.default_timer() - start1, \"sec.:\", z_enc.get_plain_text()[:print_terms])\n",
    "    print_diff(x.erf(), z_enc)\n",
    "with cfg.temp_override({\"functions.erf_method\": 'haar'}):\n",
    "    start1 = timeit.default_timer()\n",
    "    for _ in range(num_iters):\n",
    "        z_enc = x_enc.erf()  # Private\n",
    "    print(\"  Haar  :\", num_iters, \"iterations in\",  timeit.default_timer() - start1, \"sec.:\", z_enc.get_plain_text()[:print_terms])\n",
    "    print_diff(x.erf(), z_enc)\n",
    "with cfg.temp_override({\"functions.erf_method\": 'bior'}):\n",
    "    start1 = timeit.default_timer()\n",
    "    for _ in range(num_iters):\n",
    "        z_enc = x_enc.erf()  # Private\n",
    "    print(\"  Bior  :\", num_iters, \"iterations in\",  timeit.default_timer() - start1, \"sec.:\", z_enc.get_plain_text()[:print_terms])\n",
    "    print_diff(x.erf(), z_enc)"
   ]
  },
  {
   "cell_type": "code",
   "execution_count": null,
   "metadata": {},
   "outputs": [],
   "source": [
    "import curl.mpc as mpc\n",
    "\n",
    "\n",
    "@mpc.run_multiprocess(world_size=1)    \n",
    "def test_erf():\n",
    "    x = torch.arange(-64, 64, 0.1)\n",
    "    x_enc = curl.cryptensor(x)\n",
    "\n",
    "    print(\"Erf:\")\n",
    "    print(\"  Exact :\", x.erf()[:print_terms])\n",
    "    with cfg.temp_override({\"functions.erf_method\": 'Taylor'}):\n",
    "        start1 = timeit.default_timer()\n",
    "        for _ in range(num_iters):\n",
    "            z_enc = x_enc.erf()  # Private\n",
    "        print(\"  Approx:\", num_iters, \"iterations in\",  timeit.default_timer() - start1, \"sec.:\", z_enc.get_plain_text()[:print_terms])\n",
    "        print_diff_numb(x.erf(), z_enc)\n",
    "    with cfg.temp_override({\"functions.erf_method\": 'haar'}):\n",
    "        start1 = timeit.default_timer()\n",
    "        for _ in range(num_iters):\n",
    "            z_enc = x_enc.erf()  # Private\n",
    "        print(\"  Haar  :\", num_iters, \"iterations in\",  timeit.default_timer() - start1, \"sec.:\", z_enc.get_plain_text()[:print_terms])\n",
    "        print_diff_numb(x.erf(), z_enc)\n",
    "    with cfg.temp_override({\"functions.erf_method\": 'bior'}):\n",
    "        start1 = timeit.default_timer()\n",
    "        for _ in range(num_iters):\n",
    "            z_enc = x_enc.erf()  # Private\n",
    "        print(\"  Bior  :\", num_iters, \"iterations in\",  timeit.default_timer() - start1, \"sec.:\", z_enc.get_plain_text()[:print_terms])\n",
    "        print_diff_numb(x.erf(), z_enc)\n",
    "\n",
    "test_erf()"
   ]
  },
  {
   "cell_type": "markdown",
   "metadata": {},
   "source": [
    "## Gelu (checked - expression with Bior)"
   ]
  },
  {
   "cell_type": "markdown",
   "metadata": {},
   "source": [
    "Conclusion:\n",
    "- gelu with the erf expression gives better accuracy always"
   ]
  },
  {
   "cell_type": "code",
   "execution_count": null,
   "metadata": {},
   "outputs": [],
   "source": [
    "# x = torch.arange(start=1.01, end=10, step=0.01)\n",
    "# x_enc = curl.cryptensor(x)\n",
    "\n",
    "x = torch.arange(-64, 64, 0.1)\n",
    "x_enc = curl.cryptensor(x)\n",
    "\n",
    "gelu = x * (1 + (x / torch.sqrt(torch.tensor(2))).erf()) / 2\n",
    "relu = x * (x > 0)\n",
    "\n",
    "print(\"\\nGelu:\")\n",
    "print(\"  Exact :\", gelu)\n",
    "with cfg.temp_override({\"functions.gelu_method\": 'erf', \"functions.erf_method\": 'Taylor'}):\n",
    "    start1 = timeit.default_timer()\n",
    "    for _ in range(num_iters):\n",
    "        z_enc = x_enc.gelu()  # Private\n",
    "    print_app(\"Approx\", timeit.default_timer(), start1)\n",
    "    print_diff(gelu, z_enc)\n",
    "with cfg.temp_override({\"functions.gelu_method\": 'erf', \"functions.erf_method\": 'bior'}):\n",
    "    start1 = timeit.default_timer()\n",
    "    for _ in range(num_iters):\n",
    "        z_enc = x_enc.gelu()  # Private\n",
    "    print_app(\"Erf\", timeit.default_timer(), start1)\n",
    "    print_diff(gelu, z_enc)\n",
    "with cfg.temp_override({\"functions.gelu_method\": 'haar'}):\n",
    "    start1 = timeit.default_timer()\n",
    "    for _ in range(num_iters):\n",
    "        z_enc = x_enc.gelu()  # Private\n",
    "    print_app(\"Haar\", timeit.default_timer(), start1)\n",
    "    print_diff(gelu, z_enc)\n",
    "with cfg.temp_override({\"functions.gelu_method\": 'bior'}):\n",
    "    start1 = timeit.default_timer()\n",
    "    for _ in range(num_iters):\n",
    "        z_enc = x_enc.gelu()  # Private\n",
    "    print_app(\"Bior\", timeit.default_timer(), start1)\n",
    "    print_diff(gelu, z_enc)"
   ]
  },
  {
   "cell_type": "code",
   "execution_count": null,
   "metadata": {},
   "outputs": [],
   "source": [
    "import curl.mpc as mpc\n",
    "\n",
    "\n",
    "@mpc.run_multiprocess(world_size=2)    \n",
    "def test_gelu():\n",
    "    x = torch.arange(-64, 64, 0.1)\n",
    "    x_enc = curl.cryptensor(x)\n",
    "\n",
    "    gelu = x * (1 + (x / torch.sqrt(torch.tensor(2))).erf()) / 2\n",
    "    relu = x * (x > 0)\n",
    "\n",
    "    print(\"\\nGelu:\")\n",
    "    print(\"  Exact :\", gelu)\n",
    "    with cfg.temp_override({\"functions.gelu_method\": 'erf', \"functions.erf_method\": 'Taylor'}):\n",
    "        start1 = timeit.default_timer()\n",
    "        for _ in range(num_iters):\n",
    "            z_enc = x_enc.gelu()  # Private\n",
    "        print_app(\"Approx\", timeit.default_timer(), start1)\n",
    "        print_diff_numb(gelu, z_enc)\n",
    "    with cfg.temp_override({\"functions.gelu_method\": 'erf', \"functions.erf_method\": 'bior'}):\n",
    "        start1 = timeit.default_timer()\n",
    "        for _ in range(num_iters):\n",
    "            z_enc = x_enc.gelu()  # Private\n",
    "        print_app(\"Erf\", timeit.default_timer(), start1)\n",
    "        print_diff_numb(gelu, z_enc)\n",
    "    with cfg.temp_override({\"functions.gelu_method\": 'haar'}):\n",
    "        start1 = timeit.default_timer()\n",
    "        for _ in range(num_iters):\n",
    "            z_enc = x_enc.gelu()  # Private\n",
    "        print_app(\"Haar\", timeit.default_timer(), start1)\n",
    "        print_diff_numb(gelu, z_enc)\n",
    "    with cfg.temp_override({\"functions.gelu_method\": 'bior'}):\n",
    "        start1 = timeit.default_timer()\n",
    "        for _ in range(num_iters):\n",
    "            z_enc = x_enc.gelu()  # Private\n",
    "        print_app(\"Bior\", timeit.default_timer(), start1)\n",
    "        print_diff_numb(gelu, z_enc)\n",
    "\n",
    "test_gelu()"
   ]
  },
  {
   "cell_type": "markdown",
   "metadata": {},
   "source": [
    "## Silu (checked - expression with Bior)"
   ]
  },
  {
   "cell_type": "markdown",
   "metadata": {},
   "source": [
    "Conclusion:\n",
    "- silu with the sigmoid expression gives better accuracy always (by one order of magnitude)\n",
    "- but the bior is also good."
   ]
  },
  {
   "cell_type": "code",
   "execution_count": null,
   "metadata": {},
   "outputs": [],
   "source": [
    "x = torch.arange(-64, 64, 0.1)\n",
    "x_enc = curl.cryptensor(x)\n",
    "\n",
    "silu = x * x.sigmoid()\n",
    "relu = x * (x > 0)\n",
    "\n",
    "print(\"\\nSilu:\")\n",
    "# print(\"  Exact :\", silu)\n",
    "with cfg.temp_override({\"functions.silu_method\": 'sigmoid', \"functions.sigmoid_tanh_method\": 'reciprocal'}):\n",
    "    start1 = timeit.default_timer()\n",
    "    for _ in range(num_iters):\n",
    "        z_enc = x_enc.silu()  # Private\n",
    "    print_app(\"Approx\", timeit.default_timer(), start1)\n",
    "    print_diff(silu, z_enc)\n",
    "with cfg.temp_override({\"functions.silu_method\": 'sigmoid', \"functions.sigmoid_method\": 'bior'}):\n",
    "    start1 = timeit.default_timer()\n",
    "    for _ in range(num_iters):\n",
    "        z_enc = x_enc.silu()  # Private\n",
    "    print_app(\"Sigmoid\", timeit.default_timer(), start1)\n",
    "    print_diff(silu, z_enc)\n",
    "with cfg.temp_override({\"functions.silu_method\": 'haar'}):\n",
    "    start1 = timeit.default_timer()\n",
    "    for _ in range(num_iters):\n",
    "        z_enc = x_enc.silu()  # Private\n",
    "    print_app(\"Haar\", timeit.default_timer(), start1)\n",
    "    print_diff(silu, z_enc)\n",
    "with cfg.temp_override({\"functions.silu_method\": 'bior'}):\n",
    "    start1 = timeit.default_timer()\n",
    "    for _ in range(num_iters):\n",
    "        z_enc = x_enc.silu()  # Privat6\n",
    "    print_app(\"Bior\", timeit.default_timer(), start1)\n",
    "    print_diff(silu, z_enc)"
   ]
  },
  {
   "cell_type": "code",
   "execution_count": null,
   "metadata": {},
   "outputs": [],
   "source": [
    "import curl.mpc as mpc\n",
    "\n",
    "\n",
    "@mpc.run_multiprocess(world_size=1)    \n",
    "def test_silu():\n",
    "    x = torch.arange(-64, 64, 0.1)\n",
    "    x_enc = curl.cryptensor(x)\n",
    "\n",
    "    silu = x * x.sigmoid()\n",
    "    relu = x * (x > 0)\n",
    "\n",
    "    print(\"\\nSilu:\")\n",
    "    # print(\"  Exact :\", silu)\n",
    "    with cfg.temp_override({\"functions.silu_method\": 'sigmoid', \"functions.sigmoid_tanh_method\": 'reciprocal'}):\n",
    "        start1 = timeit.default_timer()\n",
    "        for _ in range(num_iters):\n",
    "            z_enc = x_enc.silu()  # Private\n",
    "        print_app(\"Approx\", timeit.default_timer(), start1)\n",
    "        print_diff_numb(silu, z_enc)\n",
    "    with cfg.temp_override({\"functions.silu_method\": 'sigmoid', \"functions.sigmoid_method\": 'bior'}):\n",
    "        start1 = timeit.default_timer()\n",
    "        for _ in range(num_iters):\n",
    "            z_enc = x_enc.silu()  # Private\n",
    "        print_app(\"Sigmoid\", timeit.default_timer(), start1)\n",
    "        print_diff_numb(silu, z_enc)\n",
    "    with cfg.temp_override({\"functions.silu_method\": 'haar'}):\n",
    "        start1 = timeit.default_timer()\n",
    "        for _ in range(num_iters):\n",
    "            z_enc = x_enc.silu()  # Private\n",
    "        print_app(\"Haar\", timeit.default_timer(), start1)\n",
    "        print_diff_numb(silu, z_enc)\n",
    "    with cfg.temp_override({\"functions.silu_method\": 'bior'}):\n",
    "        start1 = timeit.default_timer()\n",
    "        for _ in range(num_iters):\n",
    "            z_enc = x_enc.silu()  # Privat6\n",
    "        print_app(\"Bior\", timeit.default_timer(), start1)\n",
    "        print_diff_numb(silu, z_enc)\n",
    "\n",
    "test_silu()"
   ]
  },
  {
   "cell_type": "markdown",
   "metadata": {},
   "source": [
    "#### Advanced mathematics\n",
    "We are also able to compute more advanced mathematical functions on ```CrypTensors``` using iterative approximations. CrypTen provides MPC support for functions like reciprocal, exponential, logarithm, square root, tanh, etc. Notice that these are subject to numerical error due to the approximations used. \n",
    "\n",
    "Additionally, note that some of these functions will fail silently when input values are outside of the range of convergence for the approximations used. These do not produce errors because value are encrypted and cannot be checked without decryption. Exercise caution when using these functions. (It is good practice here to normalize input values for certain models.)"
   ]
  }
 ],
 "metadata": {
  "kernelspec": {
   "display_name": "Python 3",
   "language": "python",
   "name": "python3"
  },
  "language_info": {
   "codemirror_mode": {
    "name": "ipython",
    "version": 3
   },
   "file_extension": ".py",
   "mimetype": "text/x-python",
   "name": "python",
   "nbconvert_exporter": "python",
   "pygments_lexer": "ipython3",
   "version": "3.7.17"
  }
 },
 "nbformat": 4,
 "nbformat_minor": 2
}
